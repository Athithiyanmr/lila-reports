{
 "cells": [
  {
   "cell_type": "code",
   "execution_count": null,
   "id": "9e173f91-ade4-46de-9746-0203241d1465",
   "metadata": {},
   "outputs": [],
   "source": [
    "import pandas as pd\n",
    "import numpy as np\n",
    "import os, sys, subprocess,time\n",
    "from osgeo import gdal\n",
    "import geopandas as gpd\n",
    "from pyproj import CRS\n",
    "from shapely.ops import unary_union, polygonize\n",
    "from rtree import index\n",
    "from shapely.geometry import Polygon\n",
    "from sklearn.cluster import DBSCAN\n",
    "import rasterio\n",
    "#import rasterstats as rs\n",
    "import glob\n",
    "from shapely.affinity import rotate\n",
    "from shapely.geometry import LineString, Point, MultiPolygon,MultiLineString \n",
    "from shapely.ops import unary_union, polygonize\n",
    "from geopandas import overlay\n",
    "import shapely.wkt\n",
    "import matplotlib.pyplot as plt\n",
    "from matplotlib.ticker import FormatStrFormatter\n",
    "\n",
    "from pathlib import Path"
   ]
  },
  {
   "cell_type": "code",
   "execution_count": null,
   "id": "3e741b6a",
   "metadata": {},
   "outputs": [],
   "source": [
    "from matplotlib_scalebar.scalebar import ScaleBar"
   ]
  },
  {
   "cell_type": "markdown",
   "id": "f8067ae1",
   "metadata": {},
   "source": [
    "Path wrappers"
   ]
  },
  {
   "cell_type": "code",
   "execution_count": null,
   "id": "f4cfa2c6",
   "metadata": {},
   "outputs": [],
   "source": [
    "def get_rooted(stem):\n",
    "    return \"D:/LiLa_Nagapattinam/\" + stem\n",
    "\n",
    "def get_in_workdir(stem):\n",
    "    return get_rooted('workdir/' + stem)\n",
    "\n",
    "def read_df_UT(stem):\n",
    "    return gpd.read_file(Path(get_rooted(stem))).to_crs(epsg = 4326)\n"
   ]
  },
  {
   "cell_type": "markdown",
   "id": "f3391fbd-af7f-43ef-b578-059ec24428a6",
   "metadata": {},
   "source": [
    "Importing the powerline shape file (or geojson format)"
   ]
  },
  {
   "cell_type": "code",
   "execution_count": null,
   "id": "5525e342-f3ec-4e9c-9259-cdaad064e862",
   "metadata": {},
   "outputs": [],
   "source": [
    "df = read_df_UT(\"Supporting _info/osm_powline_11.776643009779821_10.743913945502888_80.19273383153288_79.14689901832789.geojson\")"
   ]
  },
  {
   "cell_type": "code",
   "execution_count": null,
   "id": "caaf5b1f-eb5b-4331-8d67-268e9c478ece",
   "metadata": {
    "tags": []
   },
   "outputs": [],
   "source": [
    "df.info()"
   ]
  },
  {
   "cell_type": "code",
   "execution_count": null,
   "id": "2c836464-4200-4590-a960-3aca757eed96",
   "metadata": {
    "tags": []
   },
   "outputs": [],
   "source": [
    "df.plot(color = df[\"color\"])\n",
    "plt.show()"
   ]
  },
  {
   "cell_type": "markdown",
   "id": "65fd8c8c-6aef-4b5a-b9cc-c964a7a5b131",
   "metadata": {},
   "source": [
    "Importing the district shape file (Nagapattinam shape file)"
   ]
  },
  {
   "cell_type": "code",
   "execution_count": null,
   "id": "07ceb2b4-0f17-453b-bb73-fbce0ed4c5fe",
   "metadata": {
    "tags": []
   },
   "outputs": [],
   "source": [
    "df1 = read_df_UT(\"Practice/Nagapattinam_proj32644.shp\")\n",
    "df1.info()"
   ]
  },
  {
   "cell_type": "code",
   "execution_count": null,
   "id": "ecd9442b-3baf-474e-9fc7-02a98cdfaffa",
   "metadata": {
    "tags": []
   },
   "outputs": [],
   "source": [
    "df1.plot()"
   ]
  },
  {
   "cell_type": "markdown",
   "id": "00fb4100-a4ab-4c3f-97fa-76d1476c6de5",
   "metadata": {},
   "source": [
    "Merging the powerline shape and district shape file"
   ]
  },
  {
   "cell_type": "code",
   "execution_count": null,
   "id": "181bd567-70cd-4cc8-b20b-c70c96807c79",
   "metadata": {
    "tags": []
   },
   "outputs": [],
   "source": [
    "merge = overlay(df, df1, how='intersection')\n",
    "merge.info()"
   ]
  },
  {
   "cell_type": "markdown",
   "id": "1ec92d41-e3c6-4ee2-aabe-aafb1c3cbffe",
   "metadata": {},
   "source": [
    "importing substation shape and overlaying with district shape file"
   ]
  },
  {
   "cell_type": "code",
   "execution_count": null,
   "id": "1e39ea8d-c184-484f-b30c-83053bac5fd0",
   "metadata": {},
   "outputs": [],
   "source": [
    "df2 = read_df_UT(\"Supporting _info/list_substation_TN_corr.geojson/list_substation_TN_corr.shp\")\n",
    "intersection = overlay(df2, df1, how='intersection')"
   ]
  },
  {
   "cell_type": "markdown",
   "id": "40a9140b-9cbd-489a-a3cb-94412b26eaa4",
   "metadata": {},
   "source": [
    "Plotting the powerline visuals with the help of the imported shape file and the base map is nagapattinam shape file.\n"
   ]
  },
  {
   "cell_type": "code",
   "execution_count": null,
   "id": "a879f8a7-f3e9-4e8e-b562-05710e8e7219",
   "metadata": {
    "tags": []
   },
   "outputs": [],
   "source": [
    "ax = df1.plot(figsize=(5,5),color=\"none\",zorder=2)\n",
    "x = merge.plot(color=\"lightcoral\",ax =ax) #powerline inside the district\n",
    "y = intersection.plot(color=\"red\",ax=ax)  #substation data points inside the district\n",
    "ax.xaxis.tick_top() #making the x-axis scaling in the above\n",
    "plt.xlim(79.40,80.00) #setting limit for x axis\n",
    "plt.ylim(10.93,11.45) #setting limit for y axis \n",
    "plt.grid(color=\"grey\",linestyle = '--', linewidth = 0.5) #creating the grid \n",
    "# plt.legend(loc='lower right') \n",
    "ax.tick_params(axis='x', colors='grey') #coloring the axis values \n",
    "ax.tick_params(axis='y', colors='grey')\n",
    "# ax.add_artist(ScaleBar(1)) #adding the scale bar \n",
    "ax.xaxis.set_major_formatter(FormatStrFormatter('%.2f')) #axis value formatting for both axis\n",
    "ax.yaxis.set_major_formatter(FormatStrFormatter('%.2f'))\n",
    "ax.tick_params(axis='x', labelsize=5)  #reducing the size of the axis values\n",
    "ax.tick_params(axis='y', labelsize=5)\n",
    "# x1, y1, arrow_length = 0.9, 0.9, 0.1   #creating a north arrow\n",
    "# ax.annotate('N', xy=(x1, y1), xytext=(x1, y1-arrow_length),\n",
    "#             arrowprops=dict(facecolor='none', width=5, headwidth=12),\n",
    "#             ha='center', va='center', fontsize=10,\n",
    "#             xycoords=ax.transAxes)\n",
    "ax.spines['bottom'].set_color('lightgrey') #changing the boundary colour\n",
    "ax.spines['top'].set_color('lightgrey') \n",
    "ax.spines['right'].set_color('lightgrey')\n",
    "ax.spines['left'].set_color('lightgrey')\n",
    "plt.savefig(get_rooted(\"workdir/powerlines.jpg\"),dpi =1500) #saving the picture in high quality\n",
    "plt.show()"
   ]
  },
  {
   "cell_type": "code",
   "execution_count": null,
   "id": "d4e2f357-98b3-4a5f-9b42-78aa78ea0737",
   "metadata": {
    "tags": []
   },
   "outputs": [],
   "source": [
    "intersection.head()"
   ]
  },
  {
   "cell_type": "markdown",
   "id": "4af33081-7c5e-4d07-a1af-45801302e14e",
   "metadata": {},
   "source": [
    "Cutting the raster for a particular district"
   ]
  },
  {
   "cell_type": "code",
   "execution_count": null,
   "id": "e7fe409d-03bb-4e9f-a6b3-7300abf9a868",
   "metadata": {
    "jupyter": {
     "source_hidden": true
    },
    "tags": []
   },
   "outputs": [],
   "source": [
    "# data1 = \"D:\\\\lila visuals\\\\DEM_T44PLT_proj32644_filled_slope.tif\"\n",
    "# data2 = \"D:\\\\lila visuals\\\\DEM_T44PLT_proj32644_filled_slope - Copy (2).tif\""
   ]
  },
  {
   "cell_type": "code",
   "execution_count": null,
   "id": "7e6cd768-6be8-45e1-8d06-8fbe7d5aa488",
   "metadata": {
    "jupyter": {
     "source_hidden": true
    },
    "tags": []
   },
   "outputs": [],
   "source": [
    "# df = pd.DataFrame()   \n",
    "# for j in range(len(df1)):  #df1 is nagapattinam district shape file \n",
    "#     input_shp = \"D:\\\\lila visuals\\\\new.shp\"\n",
    "\n",
    "#     selection = df1.geometry[j:j+1]\n",
    "#     if selection.geometry.is_empty.bool():\n",
    "#         rasterarr = []\n",
    "#     else:\n",
    "#         selection.to_file(input_shp)\n",
    "            \n",
    "#         #first for LandUse raster \n",
    "#         input_raster= data1\n",
    "    \n",
    "#         output_raster = data2\n",
    "            \n",
    "#     ds = gdal.Warp(data2,\n",
    "#                           data1,\n",
    "#                           format = 'GTiff',\n",
    "#                           cutlineDSName = input_shp,\n",
    "#                           cropToCutline=True,\n",
    "#                           )\n",
    "#     ds = None\n",
    "            \n",
    "#     raster = gdal.Open(data2, gdal.GA_ReadOnly)\n",
    "#     lcarr = raster.ReadAsArray()\n",
    "#             #remove nodata values\n",
    "#     lcarrorig = lcarr.reshape(lcarr.size,1)\n",
    "#     lcarrND = lcarr[lcarr!=-9999]\n",
    "\n",
    "#     if (np.size(lcarrND)==0):\n",
    "#                df.at[j, \"ToTVegPix\"]=0\n",
    "#                df.at[j, \"ToTPix\"]=0\n",
    "#                df.at[j, \"ToTVegAr%\"]=0\n",
    "       \n",
    "               \n",
    "#     else:    \n",
    "                \n",
    "                  \n",
    "#         veg_sum = len(lcarrND[(lcarrND==3)])\n",
    "               \n",
    "                \n",
    "               \n",
    "#         df.at[j, \"ToTVegPix\"]=veg_sum\n",
    "#         df.at[j, \"ToTPix\"]=np.size(lcarrorig)\n",
    "#         df.at[j, \"ToTVegAr%\"]=100*veg_sum/(np.size(10))\n",
    "                        \n",
    "       \n",
    "                   \n",
    "# df1 = pd.concat([df1, df], axis = 1)\n",
    "    \n",
    "    \n",
    "# geometry = df1[\"geometry\"].astype(str).map(shapely.wkt.loads) \n",
    "\n",
    "# df1 = gpd.GeoDataFrame(df1, crs=\"EPSG:\"+str(4326), geometry=geometry)\n",
    "    \n",
    "    \n",
    "    \n",
    "#     # df2 = df2.to_crs(epsg=4326)"
   ]
  },
  {
   "cell_type": "markdown",
   "id": "4bc24f40-62df-4fd4-9d2f-93a2f5609946",
   "metadata": {},
   "source": [
    "importing the edges shape file (primary and secondary roads)"
   ]
  },
  {
   "cell_type": "code",
   "execution_count": null,
   "id": "12776af6-5815-4226-b7d1-a2b5e39f0fa4",
   "metadata": {},
   "outputs": [],
   "source": [
    "data = read_df_UT(\"Supporting _info/output_osmroad_edges_11.776643009779821_10.743913945502888_80.19273383153288_79.14689901832789.geojson/edges.shp\")\n",
    "data.plot()"
   ]
  },
  {
   "cell_type": "code",
   "execution_count": null,
   "id": "e64cac97-f78b-43bf-a3d7-548a5ad5b806",
   "metadata": {
    "tags": []
   },
   "outputs": [],
   "source": [
    "data.info()"
   ]
  },
  {
   "cell_type": "code",
   "execution_count": null,
   "id": "441a9c19-d7c4-4032-8d0d-e1cc6960eda2",
   "metadata": {
    "tags": []
   },
   "outputs": [],
   "source": [
    "data.head()"
   ]
  },
  {
   "cell_type": "code",
   "execution_count": null,
   "id": "62a7b1ef-a043-4635-92ea-55336ab2d7de",
   "metadata": {},
   "outputs": [],
   "source": [
    "data.shape"
   ]
  },
  {
   "cell_type": "code",
   "execution_count": null,
   "id": "72a31265-4624-421a-8f09-0c299607175a",
   "metadata": {
    "tags": []
   },
   "outputs": [],
   "source": [
    "data[\"highway\"].unique()"
   ]
  },
  {
   "cell_type": "code",
   "execution_count": null,
   "id": "7b96725b-9eff-45c0-a806-e28d0b432beb",
   "metadata": {
    "tags": []
   },
   "outputs": [],
   "source": [
    "# data1=data.query(\"'highway' == 'secondary' and 'highway' == 'primary'\")\n",
    "# print(data.apply(lambda row: row[data['highway'].isin(['secondary','primary'])]))\n",
    "# data1 = data.apply(lambda row: row[data['highway'].isin(['secondary','primary'])])"
   ]
  },
  {
   "cell_type": "code",
   "execution_count": null,
   "id": "95403b60-af0d-420b-872e-c0c7ffe6d709",
   "metadata": {},
   "outputs": [],
   "source": [
    "data1 = data.apply(lambda row: row[data['highway'].isin(['secondary'])])"
   ]
  },
  {
   "cell_type": "code",
   "execution_count": null,
   "id": "a2f7f06d-0009-4ff9-91be-aff160d4263d",
   "metadata": {},
   "outputs": [],
   "source": [
    "data2 = data.apply(lambda row: row[data['highway'].isin(['primary'])])"
   ]
  },
  {
   "cell_type": "code",
   "execution_count": null,
   "id": "310368a6-ab81-4157-a5f2-02cb51a40ad1",
   "metadata": {},
   "outputs": [],
   "source": [
    "data3 = read_df_UT(\"Supporting _info/railway/Railways.shp\")\n",
    "data3.plot()"
   ]
  },
  {
   "cell_type": "markdown",
   "id": "bb5d5b9c-2a9a-4ca4-9228-e499d548d864",
   "metadata": {},
   "source": [
    "overlaying the separated shape files with the district shape file"
   ]
  },
  {
   "cell_type": "code",
   "execution_count": null,
   "id": "c5f87f49-8a45-4d24-aee9-6b9a91572157",
   "metadata": {},
   "outputs": [],
   "source": [
    "merge_data1 = overlay(data1,df1,how =\"intersection\")\n",
    "merge_data2 = overlay(data2,df1,how =\"intersection\")\n",
    "merge_data3 = overlay(data3,df1,how =\"intersection\")\n"
   ]
  },
  {
   "cell_type": "code",
   "execution_count": null,
   "id": "9027cb9b-62e4-450d-a16f-139685bd1c46",
   "metadata": {
    "tags": []
   },
   "outputs": [],
   "source": [
    "merge_data1.plot()\n",
    "merge_data2.plot()\n",
    "merge_data3.plot()"
   ]
  },
  {
   "cell_type": "code",
   "execution_count": null,
   "id": "9a1601a3-cdde-4459-a32a-7bbea291d1ab",
   "metadata": {},
   "outputs": [],
   "source": [
    "ax = df1.plot(figsize=(5,5),color=\"none\",zorder=3)\n",
    "x =merge_data1.plot(color=\"lightcoral\",label =\"Secondary roads\",ax =ax)\n",
    "y = merge_data2.plot(color=\"red\",label =\"Primary roads\",ax=ax)\n",
    "z = merge_data3.plot(color=\"orange\",label =\"Railway roads\",ax=ax)\n",
    "# addlabels(x=\"primary\",y =\"secondary\")\n",
    "ax.xaxis.tick_top()\n",
    "plt.xlim(79.40,80.00)\n",
    "plt.ylim(10.93,11.45)\n",
    "plt.grid(color=\"grey\",linestyle = '--', linewidth = 0.5)\n",
    "plt.legend(loc='lower right')\n",
    "ax.tick_params(axis='x', colors='grey')\n",
    "ax.tick_params(axis='y', colors='grey')\n",
    "ax.add_artist(ScaleBar(10000,location='lower left',scale_loc='top'))\n",
    "ax.xaxis.set_major_formatter(FormatStrFormatter('%.2f')) #axis value formatting for both axis\n",
    "ax.yaxis.set_major_formatter(FormatStrFormatter('%.2f'))\n",
    "ax.tick_params(axis='x', labelsize=5)  #reducing the size of the axis values\n",
    "ax.tick_params(axis='y', labelsize=5)\n",
    "x1, y1, arrow_length = 0.9, 0.9, 0.1\n",
    "ax.annotate('N', xy=(x1, y1), xytext=(x1, y1-arrow_length),\n",
    "            arrowprops=dict(facecolor='none', width=5, headwidth=12),\n",
    "            ha='center', va='center', fontsize=10,\n",
    "            xycoords=ax.transAxes)\n",
    "ax.spines['bottom'].set_color('lightgrey')\n",
    "ax.spines['top'].set_color('lightgrey') \n",
    "ax.spines['right'].set_color('lightgrey')\n",
    "ax.spines['left'].set_color('lightgrey')\n",
    "plt.savefig(get_rooted(\"workdir/roadway.jpg\"),dpi =1500)\n",
    "plt.show()"
   ]
  },
  {
   "cell_type": "markdown",
   "id": "3a8af749-f259-4683-9d6a-adf967f10064",
   "metadata": {},
   "source": [
    "importing the water shape file (overall TN) and overlaying with the district shape file"
   ]
  },
  {
   "cell_type": "code",
   "execution_count": null,
   "id": "062ccb06-b59a-4f6d-9741-f0062ac83547",
   "metadata": {},
   "outputs": [],
   "source": [
    "water = read_df_UT(\"Practice/water_TN.shp\")\n",
    "water_merge = overlay(water,df1,how =\"intersection\")"
   ]
  },
  {
   "cell_type": "code",
   "execution_count": null,
   "id": "64b14931-099e-4fd6-9449-024a4a181905",
   "metadata": {},
   "outputs": [],
   "source": [
    "# from matplotlib.ticker import FormatStrFormatter"
   ]
  },
  {
   "cell_type": "markdown",
   "id": "1374607a-4bfb-4008-bf1e-50f5a1353feb",
   "metadata": {},
   "source": [
    "plotting the waterbodies shape files "
   ]
  },
  {
   "cell_type": "code",
   "execution_count": null,
   "id": "6cf723f9-f381-406e-ba5b-f2ea20d8d15e",
   "metadata": {},
   "outputs": [],
   "source": [
    "ax = df1.plot(figsize=(5,5),color=\"none\",zorder=1)\n",
    "x =water_merge.plot(color=\"lightcoral\",ax =ax)\n",
    "ax.xaxis.tick_top()\n",
    "plt.xlim(79.40,80.00)\n",
    "plt.ylim(10.93,11.45)\n",
    "plt.grid(color=\"grey\",linestyle = '--', linewidth = 0.50)\n",
    "# plt.legend(loc='lower right')\n",
    "# plt.ticklabel_format(axis=\"both\")\n",
    "ax.xaxis.set_major_formatter(FormatStrFormatter('%.2f'))\n",
    "ax.yaxis.set_major_formatter(FormatStrFormatter('%.2f'))\n",
    "ax.tick_params(axis='x', colors='grey')\n",
    "ax.tick_params(axis='y', colors='grey')\n",
    "ax.add_artist(ScaleBar(1))\n",
    "ax.tick_params(axis='x', labelsize=5)\n",
    "ax.tick_params(axis='y', labelsize=5)\n",
    "x1, y1, arrow_length = 0.5, 1.2, 0.09\n",
    "ax.annotate('N', xy=(x1, y1), xytext=(x1, y1-arrow_length),\n",
    "            arrowprops=dict(facecolor='none', width=3, headwidth=12),\n",
    "            ha='center', va='center', fontsize=10,\n",
    "            xycoords=ax.transAxes)\n",
    "ax.spines['bottom'].set_color('lightgrey')\n",
    "ax.spines['top'].set_color('lightgrey') \n",
    "ax.spines['right'].set_color('lightgrey')\n",
    "ax.spines['left'].set_color('lightgrey')\n",
    "plt.savefig(get_rooted(\"workdir/water.jpg\"),dpi =1500)\n",
    "plt.show()"
   ]
  },
  {
   "cell_type": "code",
   "execution_count": null,
   "id": "8d341e85",
   "metadata": {},
   "outputs": [],
   "source": [
    "def read_raster_UT(stem):\n",
    "    return rasterio.open(get_rooted(stem))"
   ]
  },
  {
   "cell_type": "code",
   "execution_count": null,
   "id": "25b5b39c-aff4-4fad-b7a7-1b428fffc31f",
   "metadata": {},
   "outputs": [],
   "source": [
    "raster = read_raster_UT(\"Supporting _info/GHI_Nagapattinam.tif\")"
   ]
  },
  {
   "cell_type": "code",
   "execution_count": null,
   "id": "5ebfcd14-3c92-4c01-a10d-f03a8954bcb6",
   "metadata": {},
   "outputs": [],
   "source": [
    "raster.meta"
   ]
  },
  {
   "cell_type": "code",
   "execution_count": null,
   "id": "98259f6f-2a4b-4abd-a5f6-9e7e405487b7",
   "metadata": {
    "tags": []
   },
   "outputs": [],
   "source": [
    "import rasterio\n",
    "from rasterio.warp import calculate_default_transform, reproject, Resampling"
   ]
  },
  {
   "cell_type": "code",
   "execution_count": null,
   "id": "87b82c46",
   "metadata": {},
   "outputs": [],
   "source": [
    "raster.crs"
   ]
  },
  {
   "cell_type": "code",
   "execution_count": null,
   "id": "9566254d",
   "metadata": {},
   "outputs": [],
   "source": [
    "dstCrs = {'init': 'EPSG:4326'}"
   ]
  },
  {
   "cell_type": "code",
   "execution_count": null,
   "id": "179653af",
   "metadata": {},
   "outputs": [],
   "source": [
    "#calculate transform array and shape of reprojected raster\n",
    "transform, width, height = calculate_default_transform(\n",
    "        raster.crs, dstCrs, raster.width, raster.height, *raster.bounds)\n",
    "\n",
    "raster.transform\n",
    "transform"
   ]
  },
  {
   "cell_type": "code",
   "execution_count": null,
   "id": "9148e036",
   "metadata": {},
   "outputs": [],
   "source": [
    "#working of the meta for the destination raster\n",
    "kwargs = raster.meta.copy()\n",
    "kwargs.update({\n",
    "        'crs': dstCrs,\n",
    "        'transform': transform,\n",
    "        'width': width,\n",
    "        'height': height,\n",
    "    })"
   ]
  },
  {
   "cell_type": "code",
   "execution_count": null,
   "id": "e692febc",
   "metadata": {},
   "outputs": [],
   "source": [
    "def open_raster_to_write(fname, kwargs):\n",
    "    dstPath = get_in_workdir(fname)\n",
    "    if os.path.exists(dstPath):\n",
    "        os.remove(dstPath)\n",
    "    return rasterio.open(dstPath, 'w', **kwargs)\n",
    "\n",
    "dstRst = open_raster_to_write('GHIepsg_Nagapattinam.tif')"
   ]
  },
  {
   "cell_type": "code",
   "execution_count": null,
   "id": "95af3278",
   "metadata": {},
   "outputs": [],
   "source": [
    "dstRst.meta"
   ]
  },
  {
   "cell_type": "code",
   "execution_count": null,
   "id": "6ec4538b",
   "metadata": {},
   "outputs": [],
   "source": [
    "#reproject and save raster band data\n",
    "for i in range(1, raster.count + 1):\n",
    "    reproject(\n",
    "        source=rasterio.band(raster, i),\n",
    "        destination=rasterio.band(dstRst, i),\n",
    "        #src_transform=srcRst.transform,\n",
    "        src_crs=raster.crs,\n",
    "        #dst_transform=transform,\n",
    "        dst_crs=dstCrs,\n",
    "        resampling=Resampling.nearest)\n",
    "\n",
    "#close destination raster\n",
    "dstRst.close()        "
   ]
  },
  {
   "cell_type": "code",
   "execution_count": null,
   "id": "fddcc3a3-351f-4d96-b1fa-221aeca7bbd5",
   "metadata": {},
   "outputs": [],
   "source": [
    "import rasterio\n",
    "from rasterio.plot import show\n",
    "dstRst = read_raster_UT('workdir/GHIepsg_Nagapattinam.tif')\n",
    "show(dstRst)"
   ]
  },
  {
   "cell_type": "markdown",
   "id": "c083d9ae-2756-4fc8-ad00-bbfce4b41086",
   "metadata": {},
   "source": [
    "land cover high, med, low"
   ]
  },
  {
   "cell_type": "code",
   "execution_count": null,
   "id": "010bf3f4-f8d8-4110-9ade-d6c396a333dc",
   "metadata": {},
   "outputs": [],
   "source": [
    "lc_high = read_df_UT('solar/_rl_elev_rd_wat_co_trans_ar_sub_rdpx_trsub_trat_subat_rdat_ir_high/LC_Solar_final_area_mask_1_Nagapattinam.shp')"
   ]
  },
  {
   "cell_type": "code",
   "execution_count": null,
   "id": "1ccadbc5-44fb-438f-aebb-77640156ff4d",
   "metadata": {},
   "outputs": [],
   "source": [
    "lc_med = read_df_UT(\"solar/_rl_elev_rd_wat_co_trans_ar_sub_rdpx_trsub_trat_subat_rdat_ir_medatt/LC_Solar_final_area_mask_1_Nagapattinam.shp\")"
   ]
  },
  {
   "cell_type": "code",
   "execution_count": null,
   "id": "fd09a227-86f0-4a18-80ca-f0b0cbc812cc",
   "metadata": {},
   "outputs": [],
   "source": [
    "lc_low = read_df_UT('solar/_rl_elev_rd_wat_trans_ar_sub_rdpx_trsub_low/LC_Solar_final_area_mask_1_Nagapattinam.shp')"
   ]
  },
  {
   "cell_type": "code",
   "execution_count": null,
   "id": "49bea504-d2da-4b1a-96e6-fb37cf023389",
   "metadata": {},
   "outputs": [],
   "source": [
    "merge_lc1 = overlay(lc_high,df1,how =\"intersection\")\n",
    "merge_lc2 = overlay(lc_med,df1,how =\"intersection\")\n",
    "merge_lc3 = overlay(lc_low,df1,how =\"intersection\")\n"
   ]
  },
  {
   "cell_type": "code",
   "execution_count": null,
   "id": "2bc818cb-a2f7-4142-8ca8-0076028c8ef2",
   "metadata": {},
   "outputs": [],
   "source": [
    "merge_lc3.head()"
   ]
  },
  {
   "cell_type": "code",
   "execution_count": null,
   "id": "b58ac008-a14e-4b30-a163-9ce268e4e1ca",
   "metadata": {},
   "outputs": [],
   "source": [
    "ax = df1.plot(figsize=(5,5),color=\"none\",zorder=3)\n",
    "x = merge_lc3.plot(color=\"yellow\",ax =ax)\n",
    "y = merge_lc2.plot(color=\"red\",ax =ax)\n",
    "z = merge_lc1.plot(color=\"green\",ax =ax)\n",
    "ax.xaxis.tick_top()\n",
    "plt.xlim(79.40,80.00)\n",
    "plt.ylim(10.93,11.45)\n",
    "plt.grid(color=\"grey\",linestyle = '--', linewidth = 0.50)\n",
    "# plt.legend(loc=\"lower right\")\n",
    "plt.ticklabel_format(axis=\"both\")\n",
    "ax.xaxis.set_major_formatter(FormatStrFormatter('%.2f'))\n",
    "ax.yaxis.set_major_formatter(FormatStrFormatter('%.2f'))\n",
    "ax.tick_params(axis='x', colors='grey')\n",
    "ax.tick_params(axis='y', colors='grey')\n",
    "ax.add_artist(ScaleBar(1))\n",
    "ax.tick_params(axis='x', labelsize=5)\n",
    "ax.tick_params(axis='y', labelsize=5)\n",
    "x1, y1, arrow_length = 0.5, 1.2, 0.09\n",
    "ax.annotate('N', xy=(x1, y1), xytext=(x1, y1-arrow_length),\n",
    "            arrowprops=dict(facecolor='none', width=3, headwidth=12),\n",
    "            ha='center', va='center', fontsize=10,\n",
    "            xycoords=ax.transAxes)\n",
    "ax.spines['bottom'].set_color('lightgrey')\n",
    "ax.spines['top'].set_color('lightgrey') \n",
    "ax.spines['right'].set_color('lightgrey')\n",
    "ax.spines['left'].set_color('lightgrey')\n",
    "plt.savefig(\"lc.jpg\",dpi =1500)\n",
    "# plt.axis('off')\n",
    "plt.show()"
   ]
  },
  {
   "cell_type": "code",
   "execution_count": null,
   "id": "d5ebefcd-f966-4a92-9190-e9376c49ec00",
   "metadata": {},
   "outputs": [],
   "source": [
    "lc_tech = read_df_UT('solar/_rl_elev_rd_wat_co_trans_ar_sub_rdpx_trsub_tech/LC_Solar_final_area_mask_1_Nagapattinam.shp')"
   ]
  },
  {
   "cell_type": "code",
   "execution_count": null,
   "id": "3af193fc-888a-4a63-a843-ab5f382ed908",
   "metadata": {},
   "outputs": [],
   "source": [
    "lc_theo = read_df_UT('solar/_rl_elev_rd_wat_co_th/LC_Solar_final_mask_val_1_Nagapattinam.shp')"
   ]
  },
  {
   "cell_type": "code",
   "execution_count": null,
   "id": "d8c13743-5dd9-4cc2-a4be-ddfd51116b74",
   "metadata": {},
   "outputs": [],
   "source": [
    "lc_barren = read_df_UT('solar/all_lands_barren/all_BarrenLands_Mayu.shp')"
   ]
  },
  {
   "cell_type": "code",
   "execution_count": null,
   "id": "10dd7bec-b610-4fe1-b548-f7a0cf4bb2ff",
   "metadata": {},
   "outputs": [],
   "source": [
    "lc_tech.plot()\n",
    "lc_theo.plot()\n",
    "lc_barren.plot()"
   ]
  },
  {
   "cell_type": "code",
   "execution_count": null,
   "id": "c734cc2f-0a0c-47e6-8531-a1fa3f185b94",
   "metadata": {},
   "outputs": [],
   "source": [
    "ax = df1.plot(figsize=(5,5),color=\"none\",zorder=3)\n",
    "x = lc_barren.plot(color=\"yellow\",ax =ax)\n",
    "y = lc_theo.plot(color=\"red\",ax =ax)\n",
    "z = lc_tech.plot(color=\"green\",ax =ax)\n",
    "# ax.xaxis.tick_top()\n",
    "plt.xlim(79.40,80.00)\n",
    "plt.ylim(10.93,11.45)\n",
    "# plt.grid(color=\"grey\",linestyle = '--', linewidth = 0.50)\n",
    "# # plt.legend(loc=\"lower right\")\n",
    "# plt.ticklabel_format(axis=\"both\")\n",
    "# ax.xaxis.set_major_formatter(FormatStrFormatter('%.2f'))\n",
    "# ax.yaxis.set_major_formatter(FormatStrFormatter('%.2f'))\n",
    "# ax.tick_params(axis='x', colors='grey')\n",
    "# ax.tick_params(axis='y', colors='grey')\n",
    "# ax.add_artist(ScaleBar(1))\n",
    "# ax.tick_params(axis='x', labelsize=5)\n",
    "# ax.tick_params(axis='y', labelsize=5)\n",
    "# x1, y1, arrow_length = 0.5, 1.2, 0.09\n",
    "# ax.annotate('N', xy=(x1, y1), xytext=(x1, y1-arrow_length),\n",
    "#             arrowprops=dict(facecolor='none', width=3, headwidth=12),\n",
    "#             ha='center', va='center', fontsize=10,\n",
    "#             xycoords=ax.transAxes)\n",
    "# ax.spines['bottom'].set_color('lightgrey')\n",
    "# ax.spines['top'].set_color('lightgrey') \n",
    "# ax.spines['right'].set_color('lightgrey')\n",
    "# ax.spines['left'].set_color('lightgrey')\n",
    "# plt.savefig(\"lc.jpg\",dpi =1500)\n",
    "plt.axis('off')\n",
    "plt.show()"
   ]
  },
  {
   "cell_type": "code",
   "execution_count": null,
   "id": "cdf06116-714c-4483-baf5-b884da76774b",
   "metadata": {},
   "outputs": [],
   "source": [
    "lc_theo = read_df_UT('solar/_rl_elev_rd_wat_co_th/LC_Solar_final_mask_val_1_Nagapattinam.shp')"
   ]
  },
  {
   "cell_type": "code",
   "execution_count": null,
   "id": "5caeb348",
   "metadata": {},
   "outputs": [],
   "source": [
    "lc_theo[\"area_class\"].unique()"
   ]
  },
  {
   "cell_type": "code",
   "execution_count": null,
   "id": "55d1b6b5",
   "metadata": {},
   "outputs": [],
   "source": [
    "lc_theo_A = lc_theo[lc_theo[\"area_class\"] == \"A\"]"
   ]
  },
  {
   "cell_type": "code",
   "execution_count": null,
   "id": "b511b98c",
   "metadata": {},
   "outputs": [],
   "source": [
    "lc_theo_A.head()"
   ]
  },
  {
   "cell_type": "code",
   "execution_count": null,
   "id": "ae4b0532",
   "metadata": {},
   "outputs": [],
   "source": [
    "lc_theo_B = lc_theo[lc_theo[\"area_class\"] == \"B\"]"
   ]
  },
  {
   "cell_type": "code",
   "execution_count": null,
   "id": "5770a807",
   "metadata": {},
   "outputs": [],
   "source": [
    "\n",
    "lc_theo_C = lc_theo[lc_theo[\"area_class\"] == \"C\"]"
   ]
  },
  {
   "cell_type": "code",
   "execution_count": null,
   "id": "7abd5fc3",
   "metadata": {},
   "outputs": [],
   "source": [
    "ax =df1.plot(df1,figsize=(5,5),color=\"none\",zorder=3)\n",
    "x = lc_theo_A.plot(color=\"black\",ax =ax)\n",
    "y = lc_theo_B.plot(color=\"green\",ax =ax)\n",
    "z = lc_theo_C.plot(color=\"red\",ax =ax)\n",
    "plt.axis('off')\n",
    "plt.savefig(get_rooted(\"workdir/lc_a_b_c.jpg\"),dpi =1500)\n",
    "plt.show()"
   ]
  },
  {
   "cell_type": "code",
   "execution_count": null,
   "id": "4ba48617",
   "metadata": {},
   "outputs": [],
   "source": []
  },
  {
   "cell_type": "code",
   "execution_count": null,
   "id": "71d25568",
   "metadata": {},
   "outputs": [],
   "source": []
  }
 ],
 "metadata": {
  "kernelspec": {
   "display_name": "Python 3.10.6 ('lila')",
   "language": "python",
   "name": "python3"
  },
  "language_info": {
   "codemirror_mode": {
    "name": "ipython",
    "version": 3
   },
   "file_extension": ".py",
   "mimetype": "text/x-python",
   "name": "python",
   "nbconvert_exporter": "python",
   "pygments_lexer": "ipython3",
   "version": "3.10.6"
  },
  "vscode": {
   "interpreter": {
    "hash": "dfb9789e137668d676e5d2c22c0b253b86e2e6efd6b9e881fa7e213523a3e7c7"
   }
  }
 },
 "nbformat": 4,
 "nbformat_minor": 5
}
