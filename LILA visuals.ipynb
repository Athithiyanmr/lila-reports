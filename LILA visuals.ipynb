{
 "cells": [
  {
   "cell_type": "code",
   "execution_count": 2,
   "id": "9e173f91-ade4-46de-9746-0203241d1465",
   "metadata": {},
   "outputs": [
    {
     "ename": "ModuleNotFoundError",
     "evalue": "No module named 'pandas'",
     "output_type": "error",
     "traceback": [
      "\u001b[0;31m---------------------------------------------------------------------------\u001b[0m",
      "\u001b[0;31mModuleNotFoundError\u001b[0m                       Traceback (most recent call last)",
      "\u001b[0;32m/var/folders/0c/6_frdmp503sc1_v70ytysz7r0000gq/T/ipykernel_55173/2618391375.py\u001b[0m in \u001b[0;36m<module>\u001b[0;34m\u001b[0m\n\u001b[0;32m----> 1\u001b[0;31m \u001b[0;32mimport\u001b[0m \u001b[0mpandas\u001b[0m \u001b[0;32mas\u001b[0m \u001b[0mpd\u001b[0m\u001b[0;34m\u001b[0m\u001b[0;34m\u001b[0m\u001b[0m\n\u001b[0m\u001b[1;32m      2\u001b[0m \u001b[0;32mimport\u001b[0m \u001b[0mnumpy\u001b[0m \u001b[0;32mas\u001b[0m \u001b[0mnp\u001b[0m\u001b[0;34m\u001b[0m\u001b[0;34m\u001b[0m\u001b[0m\n\u001b[1;32m      3\u001b[0m \u001b[0;32mimport\u001b[0m \u001b[0mos\u001b[0m\u001b[0;34m,\u001b[0m \u001b[0msys\u001b[0m\u001b[0;34m,\u001b[0m \u001b[0msubprocess\u001b[0m\u001b[0;34m,\u001b[0m\u001b[0mtime\u001b[0m\u001b[0;34m\u001b[0m\u001b[0;34m\u001b[0m\u001b[0m\n\u001b[1;32m      4\u001b[0m \u001b[0;32mfrom\u001b[0m \u001b[0mosgeo\u001b[0m \u001b[0;32mimport\u001b[0m \u001b[0mgdal\u001b[0m\u001b[0;34m\u001b[0m\u001b[0;34m\u001b[0m\u001b[0m\n\u001b[1;32m      5\u001b[0m \u001b[0;32mimport\u001b[0m \u001b[0mgeopandas\u001b[0m \u001b[0;32mas\u001b[0m \u001b[0mgpd\u001b[0m\u001b[0;34m\u001b[0m\u001b[0;34m\u001b[0m\u001b[0m\n",
      "\u001b[0;31mModuleNotFoundError\u001b[0m: No module named 'pandas'"
     ]
    }
   ],
   "source": [
    "import pandas as pd\n",
    "import numpy as np\n",
    "import os, sys, subprocess,time\n",
    "from osgeo import gdal\n",
    "import geopandas as gpd\n",
    "from pyproj import CRS\n",
    "from shapely.ops import unary_union, polygonize\n",
    "from rtree import index\n",
    "from shapely.geometry import Polygon\n",
    "from sklearn.cluster import DBSCAN\n",
    "import rasterio\n",
    "#import rasterstats as rs\n",
    "import glob\n",
    "from shapely.affinity import rotate\n",
    "from shapely.geometry import LineString, Point, MultiPolygon,MultiLineString \n",
    "from shapely.ops import unary_union, polygonize\n",
    "from geopandas import overlay\n",
    "import shapely.wkt\n",
    "import matplotlib.pyplot as plt\n",
    "import seaborn as sns\n",
    "from matplotlib.ticker import FormatStrFormatter\n",
    "from matplotlib_scalebar.scalebar import ScaleBar\n",
    "\n",
    "from pathlib import Path"
   ]
  },
  {
   "cell_type": "code",
   "execution_count": 3,
   "id": "f4cfa2c6",
   "metadata": {},
   "outputs": [],
   "source": [
    "def get_rooted(stem):\n",
    "    return \"d:/lila visuals/\" + stem\n",
    "\n",
    "def read_df_UT(stem):\n",
    "    return gpd.read_file(Path(get_rooted(stem))).to_crs(epsg = 4326)"
   ]
  },
  {
   "cell_type": "markdown",
   "id": "f3391fbd-af7f-43ef-b578-059ec24428a6",
   "metadata": {},
   "source": [
    "Importing the powerline shape file (or geojson format)"
   ]
  },
  {
   "cell_type": "code",
   "execution_count": 4,
   "id": "5525e342-f3ec-4e9c-9259-cdaad064e862",
   "metadata": {},
   "outputs": [
    {
     "ename": "NameError",
     "evalue": "name 'gpd' is not defined",
     "output_type": "error",
     "traceback": [
      "\u001b[0;31m---------------------------------------------------------------------------\u001b[0m",
      "\u001b[0;31mNameError\u001b[0m                                 Traceback (most recent call last)",
      "\u001b[0;32m/var/folders/0c/6_frdmp503sc1_v70ytysz7r0000gq/T/ipykernel_55173/465965223.py\u001b[0m in \u001b[0;36m<module>\u001b[0;34m\u001b[0m\n\u001b[0;32m----> 1\u001b[0;31m \u001b[0mdf\u001b[0m \u001b[0;34m=\u001b[0m \u001b[0mread_df_UT\u001b[0m\u001b[0;34m(\u001b[0m\u001b[0;34m\"Supporting _info/osm_powline_11.776643009779821_10.743913945502888_80.19273383153288_79.14689901832789.geojson\"\u001b[0m\u001b[0;34m)\u001b[0m\u001b[0;34m\u001b[0m\u001b[0;34m\u001b[0m\u001b[0m\n\u001b[0m",
      "\u001b[0;32m/var/folders/0c/6_frdmp503sc1_v70ytysz7r0000gq/T/ipykernel_55173/543172022.py\u001b[0m in \u001b[0;36mread_df_UT\u001b[0;34m(stem)\u001b[0m\n\u001b[1;32m      3\u001b[0m \u001b[0;34m\u001b[0m\u001b[0m\n\u001b[1;32m      4\u001b[0m \u001b[0;32mdef\u001b[0m \u001b[0mread_df_UT\u001b[0m\u001b[0;34m(\u001b[0m\u001b[0mstem\u001b[0m\u001b[0;34m)\u001b[0m\u001b[0;34m:\u001b[0m\u001b[0;34m\u001b[0m\u001b[0;34m\u001b[0m\u001b[0m\n\u001b[0;32m----> 5\u001b[0;31m     \u001b[0;32mreturn\u001b[0m \u001b[0mgpd\u001b[0m\u001b[0;34m.\u001b[0m\u001b[0mread_file\u001b[0m\u001b[0;34m(\u001b[0m\u001b[0mPath\u001b[0m\u001b[0;34m(\u001b[0m\u001b[0mget_rooted\u001b[0m\u001b[0;34m(\u001b[0m\u001b[0mstem\u001b[0m\u001b[0;34m)\u001b[0m\u001b[0;34m)\u001b[0m\u001b[0;34m)\u001b[0m\u001b[0;34m.\u001b[0m\u001b[0mto_crs\u001b[0m\u001b[0;34m(\u001b[0m\u001b[0mepsg\u001b[0m \u001b[0;34m=\u001b[0m \u001b[0;36m4326\u001b[0m\u001b[0;34m)\u001b[0m\u001b[0;34m\u001b[0m\u001b[0;34m\u001b[0m\u001b[0m\n\u001b[0m",
      "\u001b[0;31mNameError\u001b[0m: name 'gpd' is not defined"
     ]
    }
   ],
   "source": [
    "df = read_df_UT(\"Supporting _info/osm_powline_11.776643009779821_10.743913945502888_80.19273383153288_79.14689901832789.geojson\")"
   ]
  },
  {
   "cell_type": "code",
   "execution_count": null,
   "id": "caaf5b1f-eb5b-4331-8d67-268e9c478ece",
   "metadata": {
    "tags": []
   },
   "outputs": [],
   "source": [
    "df.info()"
   ]
  },
  {
   "cell_type": "code",
   "execution_count": null,
   "id": "2c836464-4200-4590-a960-3aca757eed96",
   "metadata": {
    "tags": []
   },
   "outputs": [],
   "source": [
    "df.plot(color = df[\"color\"])\n",
    "plt.show()"
   ]
  },
  {
   "cell_type": "markdown",
   "id": "65fd8c8c-6aef-4b5a-b9cc-c964a7a5b131",
   "metadata": {},
   "source": [
    "Importing the district shape file (Nagapattinam shape file)"
   ]
  },
  {
   "cell_type": "code",
   "execution_count": null,
   "id": "07ceb2b4-0f17-453b-bb73-fbce0ed4c5fe",
   "metadata": {
    "tags": []
   },
   "outputs": [],
   "source": [
    "df1 = read_df_UT(\"Practice/Nagapattinam_proj32644.shp\")\n",
    "df1.info()"
   ]
  },
  {
   "cell_type": "code",
   "execution_count": null,
   "id": "ecd9442b-3baf-474e-9fc7-02a98cdfaffa",
   "metadata": {
    "tags": []
   },
   "outputs": [],
   "source": [
    "df1.plot()"
   ]
  },
  {
   "cell_type": "markdown",
   "id": "00fb4100-a4ab-4c3f-97fa-76d1476c6de5",
   "metadata": {},
   "source": [
    "Merging the powerline shape and district shape file"
   ]
  },
  {
   "cell_type": "code",
   "execution_count": null,
   "id": "181bd567-70cd-4cc8-b20b-c70c96807c79",
   "metadata": {
    "tags": []
   },
   "outputs": [],
   "source": [
    "merge = overlay(df, df1, how='intersection')\n",
    "merge = merge.to_crs(epsg =4326)\n",
    "merge.info()"
   ]
  },
  {
   "cell_type": "markdown",
   "id": "1ec92d41-e3c6-4ee2-aabe-aafb1c3cbffe",
   "metadata": {},
   "source": [
    "importing substation shape and overlaying with district shape file"
   ]
  },
  {
   "cell_type": "code",
   "execution_count": null,
   "id": "1e39ea8d-c184-484f-b30c-83053bac5fd0",
   "metadata": {},
   "outputs": [],
   "source": [
    "df2 = read_df_UT(\"Supporting _info/list_substation_TN_corr.geojson/list_substation_TN_corr.shp\")\n",
    "intersection = overlay(df2, df1, how='intersection')"
   ]
  },
  {
   "cell_type": "markdown",
   "id": "40a9140b-9cbd-489a-a3cb-94412b26eaa4",
   "metadata": {},
   "source": [
    "Plotting the powerline visuals with the help of the imported shape file and the base map is nagapattinam shape file.\n"
   ]
  },
  {
   "cell_type": "code",
   "execution_count": null,
   "id": "a879f8a7-f3e9-4e8e-b562-05710e8e7219",
   "metadata": {
    "tags": []
   },
   "outputs": [],
   "source": [
    "ax = df1.plot(figsize=(5,5),color=\"none\",zorder=2)\n",
    "x = merge.plot(color=\"lightcoral\",ax =ax) #powerline inside the district\n",
    "y = intersection.plot(color=\"red\",ax=ax)  #substation data points inside the district\n",
    "ax.xaxis.tick_top() #making the x-axis scaling in the above\n",
    "plt.xlim(79.40,80.00) #setting limit for x axis\n",
    "plt.ylim(10.93,11.45) #setting limit for y axis \n",
    "plt.grid(color=\"grey\",linestyle = '--', linewidth = 0.5) #creating the grid \n",
    "# plt.legend(loc='lower right') \n",
    "ax.tick_params(axis='x', colors='grey') #coloring the axis values \n",
    "ax.tick_params(axis='y', colors='grey')\n",
    "# ax.add_artist(ScaleBar(1)) #adding the scale bar \n",
    "ax.xaxis.set_major_formatter(FormatStrFormatter('%.2f')) #axis value formatting for both axis\n",
    "ax.yaxis.set_major_formatter(FormatStrFormatter('%.2f'))\n",
    "ax.tick_params(axis='x', labelsize=5)  #reducing the size of the axis values\n",
    "ax.tick_params(axis='y', labelsize=5)\n",
    "# x1, y1, arrow_length = 0.9, 0.9, 0.1   #creating a north arrow\n",
    "# ax.annotate('N', xy=(x1, y1), xytext=(x1, y1-arrow_length),\n",
    "#             arrowprops=dict(facecolor='none', width=5, headwidth=12),\n",
    "#             ha='center', va='center', fontsize=10,\n",
    "#             xycoords=ax.transAxes)\n",
    "ax.spines['bottom'].set_color('lightgrey') #changing the boundary colour\n",
    "ax.spines['top'].set_color('lightgrey') \n",
    "ax.spines['right'].set_color('lightgrey')\n",
    "ax.spines['left'].set_color('lightgrey')\n",
    "plt.savefig(\"powerlines.jpg\",dpi =1500) #saving the picture in high quality\n",
    "plt.show()"
   ]
  },
  {
   "cell_type": "code",
   "execution_count": null,
   "id": "d4e2f357-98b3-4a5f-9b42-78aa78ea0737",
   "metadata": {
    "tags": []
   },
   "outputs": [],
   "source": [
    "intersection.head()"
   ]
  },
  {
   "cell_type": "markdown",
   "id": "4af33081-7c5e-4d07-a1af-45801302e14e",
   "metadata": {},
   "source": [
    "Cutting the raster for a particular district"
   ]
  },
  {
   "cell_type": "code",
   "execution_count": null,
   "id": "e7fe409d-03bb-4e9f-a6b3-7300abf9a868",
   "metadata": {
    "jupyter": {
     "source_hidden": true
    },
    "tags": []
   },
   "outputs": [],
   "source": [
    "# data1 = \"D:\\\\lila visuals\\\\DEM_T44PLT_proj32644_filled_slope.tif\"\n",
    "# data2 = \"D:\\\\lila visuals\\\\DEM_T44PLT_proj32644_filled_slope - Copy (2).tif\""
   ]
  },
  {
   "cell_type": "code",
   "execution_count": null,
   "id": "7e6cd768-6be8-45e1-8d06-8fbe7d5aa488",
   "metadata": {
    "jupyter": {
     "source_hidden": true
    },
    "tags": []
   },
   "outputs": [],
   "source": [
    "# df = pd.DataFrame()   \n",
    "# for j in range(len(df1)):  #df1 is nagapattinam district shape file \n",
    "#     input_shp = \"D:\\\\lila visuals\\\\new.shp\"\n",
    "\n",
    "#     selection = df1.geometry[j:j+1]\n",
    "#     if selection.geometry.is_empty.bool():\n",
    "#         rasterarr = []\n",
    "#     else:\n",
    "#         selection.to_file(input_shp)\n",
    "            \n",
    "#         #first for LandUse raster \n",
    "#         input_raster= data1\n",
    "    \n",
    "#         output_raster = data2\n",
    "            \n",
    "#     ds = gdal.Warp(data2,\n",
    "#                           data1,\n",
    "#                           format = 'GTiff',\n",
    "#                           cutlineDSName = input_shp,\n",
    "#                           cropToCutline=True,\n",
    "#                           )\n",
    "#     ds = None\n",
    "            \n",
    "#     raster = gdal.Open(data2, gdal.GA_ReadOnly)\n",
    "#     lcarr = raster.ReadAsArray()\n",
    "#             #remove nodata values\n",
    "#     lcarrorig = lcarr.reshape(lcarr.size,1)\n",
    "#     lcarrND = lcarr[lcarr!=-9999]\n",
    "\n",
    "#     if (np.size(lcarrND)==0):\n",
    "#                df.at[j, \"ToTVegPix\"]=0\n",
    "#                df.at[j, \"ToTPix\"]=0\n",
    "#                df.at[j, \"ToTVegAr%\"]=0\n",
    "       \n",
    "               \n",
    "#     else:    \n",
    "                \n",
    "                  \n",
    "#         veg_sum = len(lcarrND[(lcarrND==3)])\n",
    "               \n",
    "                \n",
    "               \n",
    "#         df.at[j, \"ToTVegPix\"]=veg_sum\n",
    "#         df.at[j, \"ToTPix\"]=np.size(lcarrorig)\n",
    "#         df.at[j, \"ToTVegAr%\"]=100*veg_sum/(np.size(10))\n",
    "                        \n",
    "       \n",
    "                   \n",
    "# df1 = pd.concat([df1, df], axis = 1)\n",
    "    \n",
    "    \n",
    "# geometry = df1[\"geometry\"].astype(str).map(shapely.wkt.loads) \n",
    "\n",
    "# df1 = gpd.GeoDataFrame(df1, crs=\"EPSG:\"+str(4326), geometry=geometry)\n",
    "    \n",
    "    \n",
    "    \n",
    "#     # df2 = df2.to_crs(epsg=4326)"
   ]
  },
  {
   "cell_type": "markdown",
   "id": "4bc24f40-62df-4fd4-9d2f-93a2f5609946",
   "metadata": {},
   "source": [
    "importing the edges shape file (primary and secondary roads)"
   ]
  },
  {
   "cell_type": "code",
   "execution_count": null,
   "id": "12776af6-5815-4226-b7d1-a2b5e39f0fa4",
   "metadata": {},
   "outputs": [],
   "source": [
    "data = read_df_UT(\"Supporting _info/output_osmroad_edges_11.776643009779821_10.743913945502888_80.19273383153288_79.14689901832789.geojson/edges.shp\")\n",
    "data.plot()"
   ]
  },
  {
   "cell_type": "code",
   "execution_count": null,
   "id": "e64cac97-f78b-43bf-a3d7-548a5ad5b806",
   "metadata": {
    "tags": []
   },
   "outputs": [],
   "source": [
    "data.info()"
   ]
  },
  {
   "cell_type": "code",
   "execution_count": null,
   "id": "441a9c19-d7c4-4032-8d0d-e1cc6960eda2",
   "metadata": {
    "tags": []
   },
   "outputs": [],
   "source": [
    "data.head()"
   ]
  },
  {
   "cell_type": "code",
   "execution_count": null,
   "id": "62a7b1ef-a043-4635-92ea-55336ab2d7de",
   "metadata": {},
   "outputs": [],
   "source": [
    "data.shape"
   ]
  },
  {
   "cell_type": "code",
   "execution_count": null,
   "id": "72a31265-4624-421a-8f09-0c299607175a",
   "metadata": {
    "tags": []
   },
   "outputs": [],
   "source": [
    "data[\"highway\"].unique()"
   ]
  },
  {
   "cell_type": "code",
   "execution_count": null,
   "id": "7b96725b-9eff-45c0-a806-e28d0b432beb",
   "metadata": {
    "tags": []
   },
   "outputs": [],
   "source": [
    "# data1=data.query(\"'highway' == 'secondary' and 'highway' == 'primary'\")\n",
    "# print(data.apply(lambda row: row[data['highway'].isin(['secondary','primary'])]))\n",
    "# data1 = data.apply(lambda row: row[data['highway'].isin(['secondary','primary'])])"
   ]
  },
  {
   "cell_type": "code",
   "execution_count": null,
   "id": "95403b60-af0d-420b-872e-c0c7ffe6d709",
   "metadata": {},
   "outputs": [],
   "source": [
    "data1 = data.apply(lambda row: row[data['highway'].isin(['secondary'])])"
   ]
  },
  {
   "cell_type": "code",
   "execution_count": null,
   "id": "a2f7f06d-0009-4ff9-91be-aff160d4263d",
   "metadata": {},
   "outputs": [],
   "source": [
    "data2 = data.apply(lambda row: row[data['highway'].isin(['primary'])])"
   ]
  },
  {
   "cell_type": "code",
   "execution_count": null,
   "id": "310368a6-ab81-4157-a5f2-02cb51a40ad1",
   "metadata": {},
   "outputs": [],
   "source": [
    "data3 = gpd.read_file(\"D:\\\\lila visuals\\\\railway\\\\Railways.shp\")\n",
    "data3 = data3.to_crs(epsg =4326)\n",
    "data3.plot()"
   ]
  },
  {
   "cell_type": "markdown",
   "id": "bb5d5b9c-2a9a-4ca4-9228-e499d548d864",
   "metadata": {},
   "source": [
    "overlaying the separated shape files with the district shape file"
   ]
  },
  {
   "cell_type": "code",
   "execution_count": null,
   "id": "c5f87f49-8a45-4d24-aee9-6b9a91572157",
   "metadata": {},
   "outputs": [],
   "source": [
    "merge_data1 = overlay(data1,df1,how =\"intersection\")\n",
    "merge_data1 = merge_data1.to_crs(epsg =4326)\n",
    "merge_data2 = overlay(data2,df1,how =\"intersection\")\n",
    "merge_data2 = merge_data2.to_crs(epsg =4326)\n",
    "merge_data3 = overlay(data3,df1,how =\"intersection\")\n",
    "merge_data3 = merge_data3.to_crs(epsg =4326)"
   ]
  },
  {
   "cell_type": "code",
   "execution_count": null,
   "id": "9027cb9b-62e4-450d-a16f-139685bd1c46",
   "metadata": {
    "tags": []
   },
   "outputs": [],
   "source": [
    "merge_data1.plot()\n",
    "merge_data2.plot()\n",
    "merge_data3.plot()"
   ]
  },
  {
   "cell_type": "code",
   "execution_count": null,
   "id": "9a1601a3-cdde-4459-a32a-7bbea291d1ab",
   "metadata": {},
   "outputs": [],
   "source": [
    "df1 = df1.to_crs(epsg = 4326)\n",
    "ax = df1.plot(figsize=(5,5),color=\"none\",zorder=3)\n",
    "x =merge_data1.plot(color=\"lightcoral\",label =\"Secondary roads\",ax =ax)\n",
    "y = merge_data2.plot(color=\"red\",label =\"Primary roads\",ax=ax)\n",
    "z = merge_data3.plot(color=\"orange\",label =\"Railway roads\",ax=ax)\n",
    "# addlabels(x=\"primary\",y =\"secondary\")\n",
    "ax.xaxis.tick_top()\n",
    "plt.xlim(79.40,80.00)\n",
    "plt.ylim(10.93,11.45)\n",
    "plt.grid(color=\"grey\",linestyle = '--', linewidth = 0.5)\n",
    "plt.legend(loc='lower right')\n",
    "ax.tick_params(axis='x', colors='grey')\n",
    "ax.tick_params(axis='y', colors='grey')\n",
    "ax.add_artist(ScaleBar(10000,location='lower left',scale_loc='top'))\n",
    "ax.xaxis.set_major_formatter(FormatStrFormatter('%.2f')) #axis value formatting for both axis\n",
    "ax.yaxis.set_major_formatter(FormatStrFormatter('%.2f'))\n",
    "ax.tick_params(axis='x', labelsize=5)  #reducing the size of the axis values\n",
    "ax.tick_params(axis='y', labelsize=5)\n",
    "x1, y1, arrow_length = 0.9, 0.9, 0.1\n",
    "ax.annotate('N', xy=(x1, y1), xytext=(x1, y1-arrow_length),\n",
    "            arrowprops=dict(facecolor='none', width=5, headwidth=12),\n",
    "            ha='center', va='center', fontsize=10,\n",
    "            xycoords=ax.transAxes)\n",
    "ax.spines['bottom'].set_color('lightgrey')\n",
    "ax.spines['top'].set_color('lightgrey') \n",
    "ax.spines['right'].set_color('lightgrey')\n",
    "ax.spines['left'].set_color('lightgrey')\n",
    "plt.savefig(\"roadway.jpg\",dpi =1500)\n",
    "plt.show()"
   ]
  },
  {
   "cell_type": "markdown",
   "id": "3a8af749-f259-4683-9d6a-adf967f10064",
   "metadata": {},
   "source": [
    "importing the water shape file (overall TN) and overlaying with the district shape file"
   ]
  },
  {
   "cell_type": "code",
   "execution_count": null,
   "id": "062ccb06-b59a-4f6d-9741-f0062ac83547",
   "metadata": {},
   "outputs": [],
   "source": [
    "water = gpd.read_file(\"D:\\\\lila\\\\water_TN.shp\")\n",
    "water = water.to_crs(epsg = 4326)\n",
    "water_merge = overlay(water,df1,how =\"intersection\")"
   ]
  },
  {
   "cell_type": "code",
   "execution_count": null,
   "id": "64b14931-099e-4fd6-9449-024a4a181905",
   "metadata": {},
   "outputs": [],
   "source": [
    "# from matplotlib.ticker import FormatStrFormatter"
   ]
  },
  {
   "cell_type": "markdown",
   "id": "1374607a-4bfb-4008-bf1e-50f5a1353feb",
   "metadata": {},
   "source": [
    "plotting the waterbodies shape files "
   ]
  },
  {
   "cell_type": "code",
   "execution_count": null,
   "id": "6cf723f9-f381-406e-ba5b-f2ea20d8d15e",
   "metadata": {},
   "outputs": [],
   "source": [
    "ax = df1.plot(figsize=(5,5),color=\"none\",zorder=1)\n",
    "x =water_merge.plot(color=\"lightcoral\",ax =ax)\n",
    "ax.xaxis.tick_top()\n",
    "plt.xlim(79.40,80.00)\n",
    "plt.ylim(10.93,11.45)\n",
    "plt.grid(color=\"grey\",linestyle = '--', linewidth = 0.50)\n",
    "# plt.legend(loc='lower right')\n",
    "# plt.ticklabel_format(axis=\"both\")\n",
    "ax.xaxis.set_major_formatter(FormatStrFormatter('%.2f'))\n",
    "ax.yaxis.set_major_formatter(FormatStrFormatter('%.2f'))\n",
    "ax.tick_params(axis='x', colors='grey')\n",
    "ax.tick_params(axis='y', colors='grey')\n",
    "ax.add_artist(ScaleBar(1))\n",
    "ax.tick_params(axis='x', labelsize=5)\n",
    "ax.tick_params(axis='y', labelsize=5)\n",
    "x1, y1, arrow_length = 0.5, 1.2, 0.09\n",
    "ax.annotate('N', xy=(x1, y1), xytext=(x1, y1-arrow_length),\n",
    "            arrowprops=dict(facecolor='none', width=3, headwidth=12),\n",
    "            ha='center', va='center', fontsize=10,\n",
    "            xycoords=ax.transAxes)\n",
    "ax.spines['bottom'].set_color('lightgrey')\n",
    "ax.spines['top'].set_color('lightgrey') \n",
    "ax.spines['right'].set_color('lightgrey')\n",
    "ax.spines['left'].set_color('lightgrey')\n",
    "plt.savefig(\"water.jpg\",dpi =1500)\n",
    "plt.show()"
   ]
  },
  {
   "cell_type": "code",
   "execution_count": null,
   "id": "25b5b39c-aff4-4fad-b7a7-1b428fffc31f",
   "metadata": {},
   "outputs": [],
   "source": [
    "raster = rasterio.open(\"D:\\\\lila visuals\\\\GHI_Nagapattinam.tif\")"
   ]
  },
  {
   "cell_type": "code",
   "execution_count": null,
   "id": "5ebfcd14-3c92-4c01-a10d-f03a8954bcb6",
   "metadata": {},
   "outputs": [],
   "source": [
    "raster.meta"
   ]
  },
  {
   "cell_type": "code",
   "execution_count": null,
   "id": "98259f6f-2a4b-4abd-a5f6-9e7e405487b7",
   "metadata": {
    "tags": []
   },
   "outputs": [],
   "source": [
    "# raster = raster.rio.reproject(\"EPSG:4326\")"
   ]
  },
  {
   "cell_type": "code",
   "execution_count": null,
   "id": "fddcc3a3-351f-4d96-b1fa-221aeca7bbd5",
   "metadata": {},
   "outputs": [],
   "source": [
    "from rasterio.plot import show\n",
    "show(raster)"
   ]
  },
  {
   "cell_type": "markdown",
   "id": "c083d9ae-2756-4fc8-ad00-bbfce4b41086",
   "metadata": {},
   "source": [
    "land cover high, med, low"
   ]
  },
  {
   "cell_type": "code",
   "execution_count": null,
   "id": "010bf3f4-f8d8-4110-9ade-d6c396a333dc",
   "metadata": {},
   "outputs": [],
   "source": [
    "lc_high = gpd.read_file(\"D:\\\\lila visuals\\\\solar\\\\_rl_elev_rd_wat_co_trans_ar_sub_rdpx_trsub_trat_subat_rdat_ir_high\\\\LC_Solar_final_area_mask_1_Nagapattinam.shp\")\n",
    "lc_high =lc_high.to_crs(epsg =4326)"
   ]
  },
  {
   "cell_type": "code",
   "execution_count": null,
   "id": "1ccadbc5-44fb-438f-aebb-77640156ff4d",
   "metadata": {},
   "outputs": [],
   "source": [
    "lc_med = gpd.read_file(\"D:\\\\lila visuals\\\\solar\\\\_rl_elev_rd_wat_co_trans_ar_sub_rdpx_trsub_trat_subat_rdat_ir_medatt\\\\LC_Solar_final_area_mask_1_Nagapattinam.shp\")\n",
    "lc_med =lc_med.to_crs(epsg =4326)"
   ]
  },
  {
   "cell_type": "code",
   "execution_count": null,
   "id": "fd09a227-86f0-4a18-80ca-f0b0cbc812cc",
   "metadata": {},
   "outputs": [],
   "source": [
    "lc_low = gpd.read_file(\"D:\\\\lila visuals\\\\solar\\\\_rl_elev_rd_wat_trans_ar_sub_rdpx_trsub_low\\\\LC_Solar_final_area_mask_1_Nagapattinam.shp\")\n",
    "lc_low = lc_low.to_crs(epsg =4326)"
   ]
  },
  {
   "cell_type": "code",
   "execution_count": null,
   "id": "1d897627-25e6-4961-b26a-6996cdd1a31d",
   "metadata": {
    "collapsed": true,
    "jupyter": {
     "outputs_hidden": true
    },
    "tags": []
   },
   "outputs": [],
   "source": []
  },
  {
   "cell_type": "code",
   "execution_count": null,
   "id": "661cb930-0437-4d92-8b25-61d5e8eb2f2b",
   "metadata": {},
   "outputs": [],
   "source": []
  },
  {
   "cell_type": "code",
   "execution_count": null,
   "id": "49bea504-d2da-4b1a-96e6-fb37cf023389",
   "metadata": {},
   "outputs": [],
   "source": [
    "merge_lc1 = overlay(lc_high,df1,how =\"intersection\")\n",
    "merge_lc1 = merge_lc1.to_crs(epsg =4326)\n",
    "merge_lc2 = overlay(lc_med,df1,how =\"intersection\")\n",
    "merge_lc2 = merge_lc2.to_crs(epsg =4326)\n",
    "merge_lc3 = overlay(lc_low,df1,how =\"intersection\")\n",
    "merge_lc3 = merge_lc3.to_crs(epsg =4326)"
   ]
  },
  {
   "cell_type": "code",
   "execution_count": null,
   "id": "2bc818cb-a2f7-4142-8ca8-0076028c8ef2",
   "metadata": {},
   "outputs": [],
   "source": [
    "merge_lc3.head()"
   ]
  },
  {
   "cell_type": "code",
   "execution_count": null,
   "id": "b58ac008-a14e-4b30-a163-9ce268e4e1ca",
   "metadata": {},
   "outputs": [],
   "source": [
    "ax = df1.plot(figsize=(5,5),color=\"none\",zorder=3)\n",
    "x = merge_lc3.plot(color=\"yellow\",ax =ax)\n",
    "y = merge_lc2.plot(color=\"red\",ax =ax)\n",
    "z = merge_lc1.plot(color=\"green\",ax =ax)\n",
    "ax.xaxis.tick_top()\n",
    "plt.xlim(79.40,80.00)\n",
    "plt.ylim(10.93,11.45)\n",
    "plt.grid(color=\"grey\",linestyle = '--', linewidth = 0.50)\n",
    "# plt.legend(loc=\"lower right\")\n",
    "plt.ticklabel_format(axis=\"both\")\n",
    "ax.xaxis.set_major_formatter(FormatStrFormatter('%.2f'))\n",
    "ax.yaxis.set_major_formatter(FormatStrFormatter('%.2f'))\n",
    "ax.tick_params(axis='x', colors='grey')\n",
    "ax.tick_params(axis='y', colors='grey')\n",
    "ax.add_artist(ScaleBar(1))\n",
    "ax.tick_params(axis='x', labelsize=5)\n",
    "ax.tick_params(axis='y', labelsize=5)\n",
    "x1, y1, arrow_length = 0.5, 1.2, 0.09\n",
    "ax.annotate('N', xy=(x1, y1), xytext=(x1, y1-arrow_length),\n",
    "            arrowprops=dict(facecolor='none', width=3, headwidth=12),\n",
    "            ha='center', va='center', fontsize=10,\n",
    "            xycoords=ax.transAxes)\n",
    "ax.spines['bottom'].set_color('lightgrey')\n",
    "ax.spines['top'].set_color('lightgrey') \n",
    "ax.spines['right'].set_color('lightgrey')\n",
    "ax.spines['left'].set_color('lightgrey')\n",
    "plt.savefig(\"lc.jpg\",dpi =1500)\n",
    "# plt.axis('off')\n",
    "plt.show()"
   ]
  },
  {
   "cell_type": "code",
   "execution_count": null,
   "id": "7a8b6610-3592-4c41-8def-400d3289c7f4",
   "metadata": {},
   "outputs": [],
   "source": []
  },
  {
   "cell_type": "code",
   "execution_count": null,
   "id": "5e0d51d6-0bcc-4304-808b-9660c24cbbdb",
   "metadata": {},
   "outputs": [],
   "source": [
    "lc_tif = gpd.read_file(\"D:\\\\lila visuals\\\\Trial.geojson\")"
   ]
  },
  {
   "cell_type": "code",
   "execution_count": null,
   "id": "c0af4cdd-c015-4a6c-a42d-7e9ef2902a89",
   "metadata": {},
   "outputs": [],
   "source": [
    "lc_tif.plot(cmap=\"Accent\")"
   ]
  },
  {
   "cell_type": "code",
   "execution_count": null,
   "id": "6ea1323d-bef6-4623-aa9f-0e4ec4905f28",
   "metadata": {},
   "outputs": [],
   "source": [
    "lc_tif.head()"
   ]
  },
  {
   "cell_type": "code",
   "execution_count": null,
   "id": "d4a2e991-fe7c-42ef-a739-402fae41b282",
   "metadata": {},
   "outputs": [],
   "source": [
    "lc_tif.info()"
   ]
  },
  {
   "cell_type": "code",
   "execution_count": null,
   "id": "e58f3bf4-9220-4b16-9292-ec0522d639df",
   "metadata": {},
   "outputs": [],
   "source": [
    "lc_tif[\"DN\"].value_counts()"
   ]
  },
  {
   "cell_type": "code",
   "execution_count": null,
   "id": "9dbc210c-78fd-4298-bc3b-7b22809fda7d",
   "metadata": {},
   "outputs": [],
   "source": [
    "lc_tif.shape"
   ]
  },
  {
   "cell_type": "code",
   "execution_count": null,
   "id": "d5ebefcd-f966-4a92-9190-e9376c49ec00",
   "metadata": {},
   "outputs": [],
   "source": [
    "lc_tech = gpd.read_file(\"D:\\\\lila visuals\\\\solar\\\\_rl_elev_rd_wat_co_trans_ar_sub_rdpx_trsub_tech\\\\LC_Solar_final_area_mask_1_Nagapattinam.shp\")\n",
    "lc_tech =lc_tech.to_crs(epsg =4326)"
   ]
  },
  {
   "cell_type": "code",
   "execution_count": null,
   "id": "3af193fc-888a-4a63-a843-ab5f382ed908",
   "metadata": {},
   "outputs": [],
   "source": [
    "lc_theo = gpd.read_file(\"D:\\\\lila visuals\\\\solar\\\\_rl_elev_rd_wat_co_th\\\\LC_Solar_final_mask_val_1_Nagapattinam.shp\")\n",
    "lc_theo =lc_theo.to_crs(epsg =4326)"
   ]
  },
  {
   "cell_type": "code",
   "execution_count": null,
   "id": "d8c13743-5dd9-4cc2-a4be-ddfd51116b74",
   "metadata": {},
   "outputs": [],
   "source": [
    "lc_barren = gpd.read_file(\"D:\\\\lila visuals\\\\solar\\\\all_lands_barren\\\\all_BarrenLands_Mayu.shp\")\n",
    "lc_barren =lc_barren.to_crs(epsg =4326)"
   ]
  },
  {
   "cell_type": "code",
   "execution_count": null,
   "id": "10dd7bec-b610-4fe1-b548-f7a0cf4bb2ff",
   "metadata": {},
   "outputs": [],
   "source": [
    "lc_tech.plot()\n",
    "lc_theo.plot()\n",
    "lc_barren.plot()"
   ]
  },
  {
   "cell_type": "code",
   "execution_count": null,
   "id": "c734cc2f-0a0c-47e6-8531-a1fa3f185b94",
   "metadata": {},
   "outputs": [],
   "source": [
    "ax = df1.plot(figsize=(5,5),color=\"none\",zorder=3)\n",
    "x = lc_barren.plot(color=\"yellow\",ax =ax)\n",
    "y = lc_theo.plot(color=\"red\",ax =ax)\n",
    "z = lc_tech.plot(color=\"green\",ax =ax)\n",
    "# ax.xaxis.tick_top()\n",
    "plt.xlim(79.40,80.00)\n",
    "plt.ylim(10.93,11.45)\n",
    "# plt.grid(color=\"grey\",linestyle = '--', linewidth = 0.50)\n",
    "# # plt.legend(loc=\"lower right\")\n",
    "# plt.ticklabel_format(axis=\"both\")\n",
    "# ax.xaxis.set_major_formatter(FormatStrFormatter('%.2f'))\n",
    "# ax.yaxis.set_major_formatter(FormatStrFormatter('%.2f'))\n",
    "# ax.tick_params(axis='x', colors='grey')\n",
    "# ax.tick_params(axis='y', colors='grey')\n",
    "# ax.add_artist(ScaleBar(1))\n",
    "# ax.tick_params(axis='x', labelsize=5)\n",
    "# ax.tick_params(axis='y', labelsize=5)\n",
    "# x1, y1, arrow_length = 0.5, 1.2, 0.09\n",
    "# ax.annotate('N', xy=(x1, y1), xytext=(x1, y1-arrow_length),\n",
    "#             arrowprops=dict(facecolor='none', width=3, headwidth=12),\n",
    "#             ha='center', va='center', fontsize=10,\n",
    "#             xycoords=ax.transAxes)\n",
    "# ax.spines['bottom'].set_color('lightgrey')\n",
    "# ax.spines['top'].set_color('lightgrey') \n",
    "# ax.spines['right'].set_color('lightgrey')\n",
    "# ax.spines['left'].set_color('lightgrey')\n",
    "# plt.savefig(\"lc.jpg\",dpi =1500)\n",
    "plt.axis('off')\n",
    "plt.show()"
   ]
  },
  {
   "cell_type": "code",
   "execution_count": null,
   "id": "cdf06116-714c-4483-baf5-b884da76774b",
   "metadata": {},
   "outputs": [],
   "source": [
    "lc_theo = gpd.read_file(\"D:\\\\lila visuals\\\\solar\\\\_rl_elev_rd_wat_co_th\\\\LC_Solar_final_mask_val_1_Nagapattinam.shp\")\n",
    "lc_theo =lc_theo.to_crs(epsg =4326)"
   ]
  },
  {
   "cell_type": "code",
   "execution_count": null,
   "id": "e68b9fd0-3da3-418a-b027-02ce2c6ae05e",
   "metadata": {},
   "outputs": [],
   "source": [
    "lc_theo.head(50)"
   ]
  },
  {
   "cell_type": "code",
   "execution_count": null,
   "id": "f764ea2a-bbd7-48e3-94c9-16bd42d98743",
   "metadata": {
    "collapsed": true,
    "jupyter": {
     "outputs_hidden": true
    },
    "tags": []
   },
   "outputs": [],
   "source": []
  },
  {
   "cell_type": "code",
   "execution_count": null,
   "id": "a39b4436-d78e-4f08-8074-159734808808",
   "metadata": {},
   "outputs": [],
   "source": [
    "lc_theo.columns"
   ]
  },
  {
   "cell_type": "code",
   "execution_count": null,
   "id": "7708febd-86c6-4cd7-9d32-6121d4f2fd6f",
   "metadata": {},
   "outputs": [],
   "source": []
  }
 ],
 "metadata": {
  "kernelspec": {
   "display_name": "Python 3.8.9 64-bit",
   "language": "python",
   "name": "python3"
  },
  "language_info": {
   "codemirror_mode": {
    "name": "ipython",
    "version": 3
   },
   "file_extension": ".py",
   "mimetype": "text/x-python",
   "name": "python",
   "nbconvert_exporter": "python",
   "pygments_lexer": "ipython3",
   "version": "3.8.9"
  },
  "vscode": {
   "interpreter": {
    "hash": "31f2aee4e71d21fbe5cf8b01ff0e069b9275f58929596ceb00d14d90e3e16cd6"
   }
  }
 },
 "nbformat": 4,
 "nbformat_minor": 5
}
