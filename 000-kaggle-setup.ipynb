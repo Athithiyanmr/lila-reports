{
 "cells": [
  {
   "cell_type": "code",
   "execution_count": 1,
   "id": "31e94668",
   "metadata": {
    "execution": {
     "iopub.execute_input": "2022-08-18T08:50:26.339257Z",
     "iopub.status.busy": "2022-08-18T08:50:26.338817Z",
     "iopub.status.idle": "2022-08-18T08:50:28.505797Z",
     "shell.execute_reply": "2022-08-18T08:50:28.504925Z"
    },
    "papermill": {
     "duration": 2.174351,
     "end_time": "2022-08-18T08:50:28.508577",
     "exception": false,
     "start_time": "2022-08-18T08:50:26.334226",
     "status": "completed"
    },
    "tags": []
   },
   "outputs": [
    {
     "name": "stderr",
     "output_type": "stream",
     "text": [
      "/opt/conda/lib/python3.7/site-packages/geopandas/_compat.py:115: UserWarning: The Shapely GEOS version (3.9.1-CAPI-1.14.2) is incompatible with the GEOS version PyGEOS was compiled with (3.10.1-CAPI-1.16.0). Conversions between both will be slow.\n",
      "  shapely_geos_version, geos_capi_version_string\n"
     ]
    }
   ],
   "source": [
    "import os, sys, subprocess,time\n",
    "import glob\n",
    "\n",
    "import pandas as pd\n",
    "import numpy as np\n",
    "\n",
    "from shapely.ops import unary_union, polygonize\n",
    "from shapely.geometry import Polygon\n",
    "from sklearn.cluster import DBSCAN\n",
    "\n",
    "from shapely.affinity import rotate\n",
    "from shapely.geometry import LineString, Point, MultiPolygon,MultiLineString \n",
    "from shapely.ops import unary_union, polygonize\n",
    "import shapely.wkt\n",
    "\n",
    "import geopandas as gpd\n",
    "from pyproj import CRS\n",
    "from rtree import index\n",
    "import rasterio\n",
    "#import rasterstats as rs\n",
    "from geopandas import overlay\n"
   ]
  },
  {
   "cell_type": "code",
   "execution_count": 2,
   "id": "a7896749",
   "metadata": {
    "execution": {
     "iopub.execute_input": "2022-08-18T08:50:28.514858Z",
     "iopub.status.busy": "2022-08-18T08:50:28.514050Z",
     "iopub.status.idle": "2022-08-18T08:50:28.518422Z",
     "shell.execute_reply": "2022-08-18T08:50:28.517685Z"
    },
    "papermill": {
     "duration": 0.009479,
     "end_time": "2022-08-18T08:50:28.520473",
     "exception": false,
     "start_time": "2022-08-18T08:50:28.510994",
     "status": "completed"
    },
    "tags": []
   },
   "outputs": [],
   "source": [
    "def read_shape_UT(fname):\n",
    "  return gpd.read_file('../input/lila-nagapattinam-dist/LiLa_Nagapattinam/Practice/' + fname).to_crs(epsg = 4326)"
   ]
  },
  {
   "cell_type": "code",
   "execution_count": 3,
   "id": "0dda6578",
   "metadata": {
    "execution": {
     "iopub.execute_input": "2022-08-18T08:50:28.525514Z",
     "iopub.status.busy": "2022-08-18T08:50:28.525170Z",
     "iopub.status.idle": "2022-08-18T08:50:35.635793Z",
     "shell.execute_reply": "2022-08-18T08:50:35.634729Z"
    },
    "papermill": {
     "duration": 7.115993,
     "end_time": "2022-08-18T08:50:35.638312",
     "exception": false,
     "start_time": "2022-08-18T08:50:28.522319",
     "status": "completed"
    },
    "tags": []
   },
   "outputs": [
    {
     "name": "stdout",
     "output_type": "stream",
     "text": [
      "(15, 13)\n"
     ]
    },
    {
     "data": {
      "text/plain": [
       "<AxesSubplot:>"
      ]
     },
     "execution_count": 3,
     "metadata": {},
     "output_type": "execute_result"
    },
    {
     "data": {
      "image/png": "[encoded data removed]",
      "text/plain": [
       "<Figure size 432x288 with 1 Axes>"
      ]
     },
     "metadata": {
      "needs_background": "light"
     },
     "output_type": "display_data"
    }
   ],
   "source": [
    "shapeN = read_shape_UT('Nagapattinam_proj32644.shp')\n",
    "shapeTN = read_shape_UT('water_TN.shp')\n",
    "intersection_shape = overlay(shapeN, shapeTN, how='intersection')\n",
    "\n",
    "print(intersection_shape.shape)\n",
    "intersection_shape.plot(cmap='Accent')"
   ]
  }
 ],
 "metadata": {
  "kernelspec": {
   "display_name": "Python 3",
   "language": "python",
   "name": "python3"
  },
  "language_info": {
   "codemirror_mode": {
    "name": "ipython",
    "version": 3
   },
   "file_extension": ".py",
   "mimetype": "text/x-python",
   "name": "python",
   "nbconvert_exporter": "python",
   "pygments_lexer": "ipython3",
   "version": "3.7.12"
  },
  "papermill": {
   "default_parameters": {},
   "duration": 18.669239,
   "end_time": "2022-08-18T08:50:36.462752",
   "environment_variables": {},
   "exception": null,
   "input_path": "__notebook__.ipynb",
   "output_path": "__notebook__.ipynb",
   "parameters": {},
   "start_time": "2022-08-18T08:50:17.793513",
   "version": "2.3.4"
  }
 },
 "nbformat": 4,
 "nbformat_minor": 5
}
