{
  "cells": [
    {
      "cell_type": "markdown",
      "metadata": {
        "id": "-aPD4P-Qn_3j"
      },
      "source": [
        "# Build a `constructor` installer on Colab\n",
        "\n",
        "You can pack a `conda` installation along with your usual packages to reduce install times! This tutorial will help you create one directly on Colab.\n",
        "\n",
        "First, we need to download the metadata files from the `condacolab` example.\n"
      ]
    },
    {
      "cell_type": "code",
      "execution_count": 1,
      "metadata": {
        "id": "BCWj-KcmXeBK"
      },
      "outputs": [],
      "source": [
        "!wget -q https://raw.githubusercontent.com/restlessronin/lila-reports/main/constructor-example/construct.yaml\n",
        "!wget -q https://raw.githubusercontent.com/restlessronin/lila-reports/main/constructor-example/pip-dependencies.sh"
      ]
    },
    {
      "cell_type": "markdown",
      "metadata": {
        "id": "RlIMzQABoone"
      },
      "source": [
        "Now, open the sidebar and explore your files. You should see two files:\n",
        "\n",
        "- `construct.yaml`: the main metadata file. Add your `conda` packages list in the `specs` field. If you want, you can also customize the metadata (name and version), but it's not required.\n",
        "- `pip-dependencies.sh`: a helper script to add pip packages to your install. Ideally you don't need to use this because all your packages are coming from `conda`. This should only be a last resort. If you do use pip dependencies, remember to comment out the `post_install` line in `construct.yaml`.\n",
        "\n",
        "If you double click on the the files, you will be able to edit them directly on Colab. Save with <kbd>Ctrl</kbd>+<kbd>S</kbd> or <kbd>Cmd</kbd>+<kbd>S</kbd>. Once you are ready, you can continue with the rest of the (now automatic) process."
      ]
    },
    {
      "cell_type": "code",
      "execution_count": null,
      "metadata": {
        "colab": {
          "base_uri": "https://localhost:8080/"
        },
        "id": "YiKIYmleV7Uf",
        "outputId": "031b322c-3f15-4d2c-f557-93f6f380b50b"
      },
      "outputs": [],
      "source": [
        "!pip install -q condacolab\n",
        "import condacolab\n",
        "condacolab.install()"
      ]
    },
    {
      "cell_type": "markdown",
      "metadata": {
        "id": "gQz3rypUtEKZ"
      },
      "source": [
        "After the kernel restart, run the following cell to build the installer."
      ]
    },
    {
      "cell_type": "code",
      "execution_count": null,
      "metadata": {
        "colab": {
          "base_uri": "https://localhost:8080/"
        },
        "id": "-RDpyAYfXk9L",
        "outputId": "b48decf3-ce5b-4365-a840-4b43441560b5"
      },
      "outputs": [],
      "source": [
        "!mamba install -q constructor\n",
        "!constructor ."
      ]
    },
    {
      "cell_type": "markdown",
      "metadata": {
        "id": "v-CmIYpbqB_7"
      },
      "source": [
        "When you are done, you can download the generated `.sh` installer with this cell below. Alternatively, use the sidebar menu to download it."
      ]
    },
    {
      "cell_type": "code",
      "execution_count": null,
      "metadata": {
        "colab": {
          "base_uri": "https://localhost:8080/",
          "height": 17
        },
        "id": "e8sUzk5tXmPD",
        "outputId": "e9efa6e3-ce70-4873-97fa-d3ae3c969ec4"
      },
      "outputs": [],
      "source": [
        "from google.colab import files\n",
        "installer = !ls *-Linux-x86_64.sh\n",
        "files.download(installer[0])"
      ]
    }
  ],
  "metadata": {
    "colab": {
      "collapsed_sections": [],
      "name": "ConstructorForCondaColab.ipynb",
      "provenance": []
    },
    "kernelspec": {
      "display_name": "Python 3.8.9 64-bit",
      "language": "python",
      "name": "python3"
    },
    "language_info": {
      "name": "python",
      "version": "3.8.9"
    },
    "vscode": {
      "interpreter": {
        "hash": "31f2aee4e71d21fbe5cf8b01ff0e069b9275f58929596ceb00d14d90e3e16cd6"
      }
    }
  },
  "nbformat": 4,
  "nbformat_minor": 0
}
