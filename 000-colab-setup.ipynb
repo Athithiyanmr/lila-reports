{
  "cells": [
    {
      "cell_type": "markdown",
      "metadata": {
        "id": "oxF3T0hRc_yY"
      },
      "source": [
        "# Getting started on colab"
      ]
    },
    {
      "cell_type": "markdown",
      "metadata": {
        "id": "gDRal60HmdcV"
      },
      "source": [
        "Use [Conda Colab](https://github.com/conda-incubator/condacolab) to install a conda environment for [this project](https://github.com/restlessronin/lila-reports/.enviornment/)."
      ]
    },
    {
      "cell_type": "code",
      "execution_count": 1,
      "metadata": {
        "id": "7KpdG5B3mFAu"
      },
      "outputs": [],
      "source": [
        "!pip install -q condacolab"
      ]
    },
    {
      "cell_type": "markdown",
      "metadata": {},
      "source": [
        "The runtime will restart after the environment is installed."
      ]
    },
    {
      "cell_type": "code",
      "execution_count": null,
      "metadata": {
        "id": "Pe7Gj9gtwo86"
      },
      "outputs": [],
      "source": [
        "import condacolab\n",
        "condacolab.install_from_url(\"https://github.com/restlessronin/lila-reports/releases/download/v0.0.1/conda-lila-reports-0.0.1-Linux-x86_64.sh\")"
      ]
    },
    {
      "cell_type": "markdown",
      "metadata": {
        "id": "zN4E-m-XnMJy"
      },
      "source": [
        "Mount the Google Drive associated with the google account you used to login to colab."
      ]
    },
    {
      "cell_type": "code",
      "execution_count": 1,
      "metadata": {
        "colab": {
          "base_uri": "https://localhost:8080/"
        },
        "id": "1GzYj7h2w7bK",
        "outputId": "05f91591-606d-4f2c-b911-8d718b735868"
      },
      "outputs": [
        {
          "name": "stdout",
          "output_type": "stream",
          "text": [
            "Mounted at /content/drive\n"
          ]
        }
      ],
      "source": [
        "from google.colab import drive\n",
        "drive.mount('/content/drive')"
      ]
    },
    {
      "cell_type": "markdown",
      "metadata": {
        "id": "wDLwwwJjnT1s"
      },
      "source": [
        "Imports"
      ]
    },
    {
      "cell_type": "code",
      "execution_count": 2,
      "metadata": {
        "colab": {
          "base_uri": "https://localhost:8080/"
        },
        "id": "OneOUJuoc_ya",
        "outputId": "25e5a3d3-151e-46cf-817c-bf9b587272c9"
      },
      "outputs": [
        {
          "name": "stderr",
          "output_type": "stream",
          "text": [
            "PROJ: proj_create_from_database: Cannot find proj.db\n"
          ]
        }
      ],
      "source": [
        "import os, sys, subprocess,time\n",
        "import glob\n",
        "\n",
        "import pandas as pd\n",
        "import numpy as np\n",
        "\n",
        "from shapely.ops import unary_union, polygonize\n",
        "from shapely.geometry import Polygon\n",
        "from sklearn.cluster import DBSCAN\n",
        "\n",
        "from shapely.affinity import rotate\n",
        "from shapely.geometry import LineString, Point, MultiPolygon,MultiLineString \n",
        "from shapely.ops import unary_union, polygonize\n",
        "import shapely.wkt\n",
        "\n",
        "import geopandas as gpd\n",
        "from pyproj import CRS\n",
        "from rtree import index\n",
        "import rasterio\n",
        "#import rasterstats as rs\n",
        "from geopandas import overlay\n",
        "\n"
      ]
    },
    {
      "cell_type": "markdown",
      "metadata": {
        "id": "8JNgZbxdnWP4"
      },
      "source": [
        "Encapsulate path and CRS encoding while reading shapes."
      ]
    },
    {
      "cell_type": "code",
      "execution_count": 3,
      "metadata": {
        "id": "ybA-9tdE0vat"
      },
      "outputs": [],
      "source": [
        "def read_shape_UT(fname):\n",
        "  return gpd.read_file('/content/drive/MyDrive/LiLa_Nagapattinam/Practice/' + fname).to_crs(epsg = 4326)"
      ]
    },
    {
      "cell_type": "markdown",
      "metadata": {
        "id": "yy0_tFhrngFH"
      },
      "source": [
        "Read two shapes and calculate interesection"
      ]
    },
    {
      "cell_type": "code",
      "execution_count": null,
      "metadata": {
        "id": "B-B_fjze1jc4"
      },
      "outputs": [],
      "source": [
        "shapeN = read_shape_UT('Nagapattinam_proj32644.shp')\n",
        "shapeTN = read_shape_UT('water_TN.shp')\n",
        "intersection_shape = overlay(shapeN, shapeTN, how='intersection')\n",
        "\n",
        "print(intersection_shape.shape)\n",
        "intersection_shape.plot(cmap='Accent')"
      ]
    }
  ],
  "metadata": {
    "colab": {
      "collapsed_sections": [],
      "name": "000-colab-setup.ipynb",
      "provenance": []
    },
    "kernelspec": {
      "display_name": "Python 3.10.4 ('fastai')",
      "language": "python",
      "name": "python3"
    },
    "language_info": {
      "name": "python",
      "version": "3.10.4"
    },
    "vscode": {
      "interpreter": {
        "hash": "4b6371f9b180b180e3c0fc2dc539c52593b72b3e75aed3593bd0a5845eb81bd2"
      }
    }
  },
  "nbformat": 4,
  "nbformat_minor": 0
}
