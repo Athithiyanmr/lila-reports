{
 "cells": [
  {
   "cell_type": "code",
   "execution_count": null,
   "id": "4d841b92-c82e-402d-bdff-552d14bda732",
   "metadata": {},
   "outputs": [],
   "source": [
    "#Masking Raster with shapefile"
   ]
  },
  {
   "cell_type": "code",
   "execution_count": null,
   "id": "85de3273-4b0a-480f-b858-53c8bad64856",
   "metadata": {},
   "outputs": [],
   "source": [
    "import rasterio.mask\n",
    "import fiona\n",
    "import rasterio\n",
    "import geopandas as gpd\n",
    "from osgeo import ogr, gdal\n",
    "from osgeo import gdal_array\n",
    "from osgeo import gdalconst\n"
   ]
  },
  {
   "cell_type": "code",
   "execution_count": null,
   "id": "100f6ddb",
   "metadata": {},
   "outputs": [],
   "source": [
    "#Setting path to directory\n",
    "\n",
    "def get_rooted(stem):\n",
    "    return \"F:/AV Consulting/2022/LiLa/TN Government/Data/LiLa_Nagapattinam/\" + stem\n",
    "\n",
    "def read_raster_UT(stem):\n",
    "    return rasterio.open(get_rooted(stem))\n",
    "\n",
    "def read_shpfi_UT(stem):\n",
    "    return fiona.open(get_rooted(stem))    \n",
    "\n",
    "def read_rastergpd_UT(stem):\n",
    "    return gpd.read_file(get_rooted(stem)) \n",
    "\n",
    "def read_rastergdal_UT(stem):\n",
    "    return gdal.Open(get_rooted(stem))    \n",
    "\n",
    "    "
   ]
  },
  {
   "cell_type": "code",
   "execution_count": null,
   "id": "1dd4210a-cc52-4a88-8290-f9968622b4ca",
   "metadata": {},
   "outputs": [],
   "source": [
    "#Open Shapefile with fiona"
   ]
  },
  {
   "cell_type": "code",
   "execution_count": null,
   "id": "c9eda961-e6e3-431a-8d64-2302ba76ab7a",
   "metadata": {},
   "outputs": [],
   "source": [
    "with read_shpfi_UT('Practice/Nagapattinam_proj32644.shp') as shapefile:\n",
    "    for feature in shapefile:\n",
    "        shapes = [feature['geometry']]\n",
    "\n"
   ]
  },
  {
   "cell_type": "code",
   "execution_count": null,
   "id": "33d9656d",
   "metadata": {},
   "outputs": [],
   "source": [
    "#Coordinate Reference System of Shapefile\n",
    "\n",
    "read_shpfi_UT('Practice/Nagapattinam_proj32644.shp').crs"
   ]
  },
  {
   "cell_type": "code",
   "execution_count": null,
   "id": "fc6ceca2-e9f0-43e4-955e-4dd604016c06",
   "metadata": {
    "tags": []
   },
   "outputs": [],
   "source": [
    "#Open Raster #with rasterio"
   ]
  },
  {
   "cell_type": "code",
   "execution_count": null,
   "id": "59a7de89-4fb2-4fe2-964c-bdbb3c299418",
   "metadata": {},
   "outputs": [],
   "source": [
    "with read_raster_UT('Supporting _info/DEM_T44PLT_proj32644_filled_slope.tif') as src:\n",
    "    out_image, out_transform = rasterio.mask.mask(src, shapes, crop = True)\n",
    "    out_meta = src.meta"
   ]
  },
  {
   "cell_type": "code",
   "execution_count": null,
   "id": "76c2cb33",
   "metadata": {},
   "outputs": [],
   "source": [
    "#Coordinate Reference System of Shapefile\n",
    "\n",
    "read_raster_UT('Supporting _info/DEM_T44PLT_proj32644_filled_slope.tif').crs"
   ]
  },
  {
   "cell_type": "code",
   "execution_count": null,
   "id": "7ae03114-94ae-40cc-b5f4-eddf0e0c338a",
   "metadata": {},
   "outputs": [],
   "source": [
    "out_meta.update({\n",
    "    'driver':'Gtiff',\n",
    "    'height': out_image.shape[1],\n",
    "    'width': out_image.shape[2],\n",
    "    'transform': out_transform,\n",
    "})    "
   ]
  },
  {
   "cell_type": "code",
   "execution_count": null,
   "id": "5ac6ff98",
   "metadata": {},
   "outputs": [],
   "source": [
    "out_meta = src.meta"
   ]
  },
  {
   "cell_type": "code",
   "execution_count": null,
   "id": "96687c27-d1ac-4088-829e-fc1339d007cc",
   "metadata": {},
   "outputs": [],
   "source": [
    "with rasterio.open('F:/AV Consulting/2022/LiLa/TN Government/Data/LiLa_Nagapattinam/workdir/Outputslope_rasternagapattinam_slope.tif', 'w', **out_meta) as dst:\n",
    "    dst.write(out_image)"
   ]
  },
  {
   "cell_type": "code",
   "execution_count": null,
   "id": "8a654129-f413-47d2-846e-b096fa0d940f",
   "metadata": {},
   "outputs": [],
   "source": [
    "import rasterio.plot"
   ]
  },
  {
   "cell_type": "code",
   "execution_count": null,
   "id": "af38337a-274e-4eb7-8652-c1ec4b4a6e67",
   "metadata": {},
   "outputs": [],
   "source": [
    "rasterio.plot.show(read_raster_UT('workdir/Outputslope_rasternagapattinam_slope.tif'))"
   ]
  },
  {
   "cell_type": "markdown",
   "id": "178733ba",
   "metadata": {},
   "source": [
    "Converting raster into epsg 4326 CRS"
   ]
  },
  {
   "cell_type": "code",
   "execution_count": null,
   "id": "d85730d4-2475-48f5-b290-c88549c122fa",
   "metadata": {},
   "outputs": [],
   "source": [
    "#Open raster\n",
    "_tif_dst_slope = read_raster_UT('workdir/Outputslope_rasternagapattinam_slope.tif')"
   ]
  },
  {
   "cell_type": "code",
   "execution_count": null,
   "id": "d3350223",
   "metadata": {},
   "outputs": [],
   "source": [
    "#Show the CRS of source raster\n",
    "_tif_dst_slope.crs"
   ]
  },
  {
   "cell_type": "code",
   "execution_count": null,
   "id": "dd6f2037",
   "metadata": {},
   "outputs": [],
   "source": [
    "#Defining CRS of reprojected raster. Reprojected raster is named _tif_dst_slope_epsg4326\n",
    "_tif_dst_slope_epsg4326 = {'init': 'EPSG:4326'}"
   ]
  },
  {
   "cell_type": "code",
   "execution_count": null,
   "id": "3c88f2c6",
   "metadata": {},
   "outputs": [],
   "source": [
    "#Calculate transform array and shape of reprojected raster\n",
    "from rasterio.warp import calculate_default_transform, reproject, Resampling\n",
    "transform, width, height = calculate_default_transform(\n",
    "    _tif_dst_slope.crs, _tif_dst_slope_epsg4326, _tif_dst_slope.width, _tif_dst_slope.height, *_tif_dst_slope.bounds)\n",
    "\n",
    "_tif_dst_slope.transform\n",
    "transform"
   ]
  },
  {
   "cell_type": "code",
   "execution_count": null,
   "id": "d2e80df9",
   "metadata": {},
   "outputs": [],
   "source": [
    "#Working of the meta for the destination raster\n",
    "kwargs = _tif_dst_slope.meta.copy()\n",
    "kwargs.update({\n",
    "        'crs': _tif_dst_slope_epsg4326,\n",
    "        'transform': transform,\n",
    "        'width': width,\n",
    "        'height': height,\n",
    "    })"
   ]
  },
  {
   "cell_type": "code",
   "execution_count": null,
   "id": "70279837",
   "metadata": {},
   "outputs": [],
   "source": [
    "#Open destination raster\n",
    "_tif_dst_slope_epsg4326 = rasterio.open(\n",
    "    'F:/AV Consulting/2022/LiLa/TN Government/Data/LiLa_Nagapattinam/workdir/Outputslope_rst_dst_epsg4326.tif', 'w', **kwargs)\n"
   ]
  },
  {
   "cell_type": "code",
   "execution_count": null,
   "id": "eec4cc0d",
   "metadata": {},
   "outputs": [],
   "source": [
    "#Reproject and save raster band date\n",
    "for i in range(1, _tif_dst_slope.count + 1):\n",
    "    reproject(\n",
    "        source = rasterio.band(_tif_dst_slope, i),\n",
    "        destination = rasterio.band(_tif_dst_slope_epsg4326, i),\n",
    "        src_crs = _tif_dst_slope.crs,\n",
    "        dst_crs = _tif_dst_slope_epsg4326,\n",
    "        resampling = Resampling.nearest\n",
    "    )\n"
   ]
  },
  {
   "cell_type": "code",
   "execution_count": null,
   "id": "afdc19a9",
   "metadata": {},
   "outputs": [],
   "source": [
    "_tif_dst_slope_epsg4326.close()"
   ]
  },
  {
   "cell_type": "code",
   "execution_count": null,
   "id": "e7862d0b",
   "metadata": {},
   "outputs": [],
   "source": [
    "from rasterio.plot import show"
   ]
  },
  {
   "cell_type": "code",
   "execution_count": null,
   "id": "1972123d",
   "metadata": {},
   "outputs": [],
   "source": [
    "_tif_dst_slope_epsg4326 = read_raster_UT('workdir/Outputslope_rst_dst_epsg4326.tif')\n",
    "show(_tif_dst_slope_epsg4326)"
   ]
  },
  {
   "cell_type": "code",
   "execution_count": null,
   "id": "5dce275b",
   "metadata": {},
   "outputs": [],
   "source": [
    "from matplotlib import pyplot\n",
    "import matplotlib.pyplot as plt\n",
    "import numpy as np\n",
    "from osgeo import ogr, gdal\n",
    "from osgeo import gdal_array\n",
    "from osgeo import gdalconst"
   ]
  },
  {
   "cell_type": "code",
   "execution_count": null,
   "id": "644489de",
   "metadata": {},
   "outputs": [],
   "source": [
    "array = _tif_dst_slope_epsg4326.read()\n",
    "array.shape\n",
    "#raster shape is given as (band, rows, columns)"
   ]
  },
  {
   "cell_type": "code",
   "execution_count": null,
   "id": "1194dddb",
   "metadata": {},
   "outputs": [],
   "source": [
    "_tif_dst_slope_epsg4326.colorinterp[0]"
   ]
  },
  {
   "cell_type": "code",
   "execution_count": null,
   "id": "50675172",
   "metadata": {},
   "outputs": [],
   "source": [
    "_tif_dst_slope_epsg4326_meta =_tif_dst_slope_epsg4326.meta\n",
    "print(_tif_dst_slope_epsg4326_meta)"
   ]
  },
  {
   "cell_type": "markdown",
   "id": "7a0b5f33",
   "metadata": {},
   "source": [
    "## Slope Raster\n",
    "\n",
    "To visualize raster, information was used from:\n",
    "\n",
    "https://zia207.github.io/geospatial-python.io/lesson_06_working-with-raster-data.html\n",
    "\n",
    "https://stackoverflow.com/questions/61327088/rio-plot-show-with-colorbar\n",
    "\n",
    "https://matplotlib.org/stable/api/axis_api.html\n"
   ]
  },
  {
   "cell_type": "code",
   "execution_count": null,
   "id": "9207dd19",
   "metadata": {},
   "outputs": [],
   "source": [
    "gdal_data = read_rastergdal_UT('workdir/Outputslope_rst_dst_epsg4326.tif')\n",
    "gdal_band = gdal_data.GetRasterBand(1)\n",
    "nodataval = gdal_band.GetNoDataValue()\n",
    "\n",
    "# convert to a numpy array\n",
    "data_array = gdal_data.ReadAsArray().astype(np.float)\n",
    "data_array\n",
    "\n",
    "# replace missing values if necessary\n",
    "if np.any(data_array == nodataval):\n",
    "    data_array[data_array == nodataval] = np.nan\n",
    "    data_array[data_array == nodataval] = np.nan"
   ]
  },
  {
   "cell_type": "markdown",
   "id": "7bf2530f",
   "metadata": {},
   "source": [
    "To create color map:\n",
    "\n",
    "Visit: https://www.delftstack.com/howto/matplotlib/custom-colormap-using-python-matplotlib/\n",
    "\n",
    "Visit: https://www.youtube.com/watch?v=qk0n-YaKIkY\n",
    "\n",
    "The line that creates the colormap is: \n",
    "\n",
    "name_of_cmap = LinearSegmentedColormap.from_list('name of this color string', colors=['starting color in hexcode','ending color in hexcode'], N=steps in color of which max is 256)\n",
    "\n",
    "Ex: AVC_color = LinearSegmentedColormap.from_list('testCmap', colors=['#ec6669','#FFFFFF'], N=256)\n",
    "\n",
    "There can also be a list of colours for the colourmap, like in the example below\n",
    "\n",
    "import numpy as np\n",
    "import matplotlib.pyplot as plt\n",
    "from matplotlib import cm\n",
    "from matplotlib.colors import ListedColormap, LinearSegmentedColormap\n",
    "import matplotlib.colors\n",
    "xdata=[1,2,3,4,5,6,7,8,9,10,11,12]\n",
    "ydata=[x*x for x in xdata]\n",
    "norm=plt.Normalize(1,150)\n",
    "colorlist=[\"darkorange\", \"gold\", \"lawngreen\", \"lightseagreen\"]\n",
    "newcmp = LinearSegmentedColormap.from_list('testCmap', colors=colorlist, N=256)\n",
    "c=np.linspace(0,300,12)\n",
    "plt.scatter(xdata,ydata,c=c, cmap=newcmp, norm=norm)\n",
    "plt.colorbar()\n",
    "plt.show()"
   ]
  },
  {
   "cell_type": "markdown",
   "id": "667c39e8",
   "metadata": {},
   "source": [
    "To check color palette created:\n",
    "\n",
    "import matplotlib as mpl\n",
    "import matplotlib.pyplot as plt\n",
    "import numpy as np\n",
    "\n",
    "def colorFader(c1,c2,mix=0): #fade (linear interpolate) from color c1 (at mix=0) to c2 (mix=1)\n",
    "    c1=np.array(mpl.colors.to_rgb(c1))\n",
    "    c2=np.array(mpl.colors.to_rgb(c2))\n",
    "    return mpl.colors.to_hex((1-mix)*c1 + mix*c2)\n",
    "\n",
    "c1='#ec6669' #AVC colour\n",
    "c2='#FFFFFF' #white\n",
    "n=500\n",
    "\n",
    "fig, ax = plt.subplots(figsize=(8, 5))\n",
    "for x in range(n+1):\n",
    "    ax.axvline(x, color=colorFader(c1,c2,x/n), linewidth=4) \n",
    "plt.show()"
   ]
  },
  {
   "cell_type": "markdown",
   "id": "3b45bd55",
   "metadata": {},
   "source": [
    "To check raster with a specific colour map: \n",
    "\n",
    "show(rasterfile_name, cmap=nameofdefinedcolourmap)"
   ]
  },
  {
   "cell_type": "code",
   "execution_count": null,
   "id": "e25412bb",
   "metadata": {},
   "outputs": [],
   "source": [
    "import matplotlib.pyplot as plt\n",
    "from matplotlib import cm\n",
    "from matplotlib.colors import ListedColormap, LinearSegmentedColormap\n",
    "import matplotlib.colors\n",
    "\n",
    "#Set colour\n",
    "AVC_color = LinearSegmentedColormap.from_list('testCmap1', colors=['#ec6669','#FFFFFF'], N=256)\n"
   ]
  },
  {
   "cell_type": "code",
   "execution_count": null,
   "id": "d462186e",
   "metadata": {},
   "outputs": [],
   "source": [
    "#Show min and max of array without nan values\n",
    "a = np.nanmax(data_array)\n",
    "b = np.nanmin(data_array)\n",
    "a, b"
   ]
  },
  {
   "cell_type": "code",
   "execution_count": null,
   "id": "12174ac7",
   "metadata": {},
   "outputs": [],
   "source": [
    "import matplotlib.ticker as ticker\n",
    "from matplotlib.ticker import LinearLocator, FormatStrFormatter"
   ]
  },
  {
   "cell_type": "code",
   "execution_count": null,
   "id": "0c995054",
   "metadata": {},
   "outputs": [],
   "source": [
    "dem = read_raster_UT('workdir/Outputslope_rst_dst_epsg4326.tif')\n",
    "\n",
    "fig, ax = plt.subplots(figsize=(5, 5))\n",
    "plt.grid(color=\"grey\",linestyle = '--', linewidth = 0.5)\n",
    "\n",
    "\n",
    "ax.xaxis.tick_top()\n",
    "\n",
    "ax.tick_params(axis='x', colors='grey', labelsize=5)\n",
    "ax.tick_params(axis='y', colors='grey', labelsize=5) #reducing the size of the axis values\n",
    "\n",
    "ax.xaxis.set_major_formatter(FormatStrFormatter('%.2f')) #axis value formatting for both axis\n",
    "ax.yaxis.set_major_formatter(FormatStrFormatter('%.2f'))\n",
    "\n",
    "ax.spines['bottom'].set_color('none')\n",
    "ax.spines['top'].set_color('none') \n",
    "ax.spines['right'].set_color('none')\n",
    "ax.spines['left'].set_color('none')\n",
    "\n",
    "# use imshow so that we have something to map the colorbar to\n",
    "image_hidden = ax.imshow(data_array, \n",
    "                         cmap=AVC_color, \n",
    "                         )\n",
    "\n",
    "# plot on the same axis with rasterio.plot.show\n",
    "image = rasterio.plot.show(dem, \n",
    "                      transform=dem.transform, \n",
    "                      ax=ax, \n",
    "                      cmap=AVC_color, \n",
    "                      )\n",
    "\n",
    "# add colorbar using the now hidden image\n",
    "fig.colorbar(image_hidden, ax=ax)"
   ]
  },
  {
   "cell_type": "markdown",
   "id": "808d527b",
   "metadata": {},
   "source": [
    "## GHI"
   ]
  },
  {
   "cell_type": "code",
   "execution_count": null,
   "id": "1be167ff",
   "metadata": {},
   "outputs": [],
   "source": [
    "GHI_gdal_data = read_rastergdal_UT('workdir/GHIepsg_Nagapattinam.tif')\n",
    "gdal_band = GHI_gdal_data.GetRasterBand(1)\n",
    "nodataval = gdal_band.GetNoDataValue()\n",
    "\n",
    "# convert to a numpy array\n",
    "GHI_data_array = GHI_gdal_data.ReadAsArray().astype(np.float)\n",
    "GHI_data_array\n",
    "\n",
    "# replace missing values if necessary\n",
    "if np.any(data_array == nodataval):\n",
    "    GHI_data_array[data_array == nodataval] = np.nan\n",
    "    GHI_data_array[data_array == nodataval] = np.nan"
   ]
  },
  {
   "cell_type": "code",
   "execution_count": null,
   "id": "453365be",
   "metadata": {},
   "outputs": [],
   "source": [
    "#Set colour\n",
    "AVC_color2 = LinearSegmentedColormap.from_list('testCmap', colors=['#e62314','#f19e18'], N=256)"
   ]
  },
  {
   "cell_type": "code",
   "execution_count": null,
   "id": "7af160aa",
   "metadata": {},
   "outputs": [],
   "source": [
    "#Show min and max of array without nan values\n",
    "a = np.nanmax(GHI_data_array)\n",
    "b = np.nanmin(GHI_data_array)\n",
    "a, b"
   ]
  },
  {
   "cell_type": "code",
   "execution_count": null,
   "id": "a3b9c886",
   "metadata": {},
   "outputs": [],
   "source": [
    "GHI = read_raster_UT('workdir/GHIepsg_Nagapattinam.tif')\n",
    "\n",
    "fig, ax = plt.subplots(figsize=(5, 5))\n",
    "plt.grid(color=\"grey\",linestyle = '--', linewidth = 0.5)\n",
    "\n",
    "\n",
    "ax.xaxis.tick_top()\n",
    "\n",
    "ax.tick_params(axis='x', colors='grey', labelsize=5)\n",
    "ax.tick_params(axis='y', colors='grey', labelsize=5) #reducing the size of the axis values\n",
    "\n",
    "ax.xaxis.set_major_formatter(FormatStrFormatter('%.2f')) #axis value formatting for both axis\n",
    "ax.yaxis.set_major_formatter(FormatStrFormatter('%.2f'))\n",
    "\n",
    "ax.spines['bottom'].set_color('none')\n",
    "ax.spines['top'].set_color('none') \n",
    "ax.spines['right'].set_color('none')\n",
    "ax.spines['left'].set_color('none')\n",
    "\n",
    "# use imshow so that we have something to map the colorbar to\n",
    "image_hidden = ax.imshow(GHI_data_array, \n",
    "                         cmap=AVC_color2, \n",
    "                         vmin = 1970.524048,\n",
    "                         vmax = a,\n",
    "                         )\n",
    "\n",
    "# plot on the same axis with rasterio.plot.show\n",
    "image = rasterio.plot.show(GHI, \n",
    "                      transform=dem.transform, \n",
    "                      ax=ax, \n",
    "                      cmap=AVC_color2, \n",
    "                      with_bounds = 'True'\n",
    "                      )\n",
    "\n",
    "# add colorbar using the now hidden image\n",
    "fig.colorbar(image_hidden, ax=ax)"
   ]
  },
  {
   "cell_type": "code",
   "execution_count": null,
   "id": "4a4e2f8c",
   "metadata": {},
   "outputs": [],
   "source": [
    "show(GHI, cmap=AVC_color2)"
   ]
  },
  {
   "cell_type": "code",
   "execution_count": null,
   "metadata": {},
   "outputs": [],
   "source": [
    "fig, ax = plt.subplots(figsize=(5, 5))\n",
    "\n",
    "image = rasterio.plot.show(GHI, \n",
    "                      transform=dem.transform, \n",
    "                      ax=ax, \n",
    "                      cmap=AVC_color2, \n",
    "                      with_bounds = 'True'\n",
    "                      )\n",
    "\n",
    "plt.grid(color=\"grey\",linestyle = '--', linewidth = 0.5)\n",
    "\n",
    "\n",
    "ax.xaxis.tick_top()\n",
    "\n",
    "ax.tick_params(axis='x', colors='grey', labelsize=5)\n",
    "ax.tick_params(axis='y', colors='grey', labelsize=5) #reducing the size of the axis values\n",
    "\n",
    "ax.xaxis.set_major_formatter(FormatStrFormatter('%.2f')) #axis value formatting for both axis\n",
    "ax.yaxis.set_major_formatter(FormatStrFormatter('%.2f'))\n",
    "\n",
    "ax.spines['bottom'].set_color('none')\n",
    "ax.spines['top'].set_color('none') \n",
    "ax.spines['right'].set_color('none')\n",
    "ax.spines['left'].set_color('none')\n",
    "\n"
   ]
  }
 ],
 "metadata": {
  "kernelspec": {
   "display_name": "Python 3.9.13 ('lila')",
   "language": "python",
   "name": "python3"
  },
  "language_info": {
   "codemirror_mode": {
    "name": "ipython",
    "version": 3
   },
   "file_extension": ".py",
   "mimetype": "text/x-python",
   "name": "python",
   "nbconvert_exporter": "python",
   "pygments_lexer": "ipython3",
   "version": "3.9.13"
  },
  "vscode": {
   "interpreter": {
    "hash": "c412d01bf78067acc03361b536164ae5eaac69b56d1c1e744f6283d58ba0ed5e"
   }
  }
 },
 "nbformat": 4,
 "nbformat_minor": 5
}
