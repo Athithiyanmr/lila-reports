{
  "cells": [
    {
      "cell_type": "markdown",
      "metadata": {
        "id": "view-in-github",
        "colab_type": "text"
      },
      "source": [
        "<a href=\"https://colab.research.google.com/github/restlessronin/lila-reports/blob/issue-2%2Fcolab-setup/setup-colab/sample.ipynb\" target=\"_parent\"><img src=\"https://colab.research.google.com/assets/colab-badge.svg\" alt=\"Open In Colab\"/></a>"
      ]
    },
    {
      "cell_type": "markdown",
      "metadata": {
        "id": "oxF3T0hRc_yY"
      },
      "source": [
        "# Sample code to get started on colab"
      ]
    },
    {
      "cell_type": "code",
      "source": [
        "!pip install --upgrade geopandas\n",
        "!pip install --upgrade shapely\n",
        "!pip install --upgrade sklearn\n",
        "!pip install --upgrade rasterio\n"
      ],
      "metadata": {
        "id": "7KpdG5B3mFAu"
      },
      "execution_count": null,
      "outputs": []
    },
    {
      "cell_type": "code",
      "execution_count": 2,
      "metadata": {
        "id": "OneOUJuoc_ya"
      },
      "outputs": [],
      "source": [
        "import os, sys, subprocess,time\n",
        "import glob\n",
        "\n",
        "import pandas as pd\n",
        "import numpy as np\n",
        "\n",
        "from shapely.ops import unary_union, polygonize\n",
        "from shapely.geometry import Polygon\n",
        "from sklearn.cluster import DBSCAN\n",
        "\n",
        "from shapely.affinity import rotate\n",
        "from shapely.geometry import LineString, Point, MultiPolygon,MultiLineString \n",
        "from shapely.ops import unary_union, polygonize\n",
        "import shapely.wkt\n",
        "\n",
        "import geopandas as gpd\n",
        "from pyproj import CRS\n",
        "from rtree import index\n",
        "import rasterio\n",
        "#import rasterstats as rs\n",
        "from geopandas import overlay\n",
        "\n"
      ]
    },
    {
      "cell_type": "code",
      "source": [
        "from google.colab import drive\n",
        "drive.mount('/content/drive')"
      ],
      "metadata": {
        "colab": {
          "base_uri": "https://localhost:8080/"
        },
        "id": "1GzYj7h2w7bK",
        "outputId": "a6662c6f-c8c8-4b8a-9ddf-c27fbbc65b51"
      },
      "execution_count": 3,
      "outputs": [
        {
          "output_type": "stream",
          "name": "stdout",
          "text": [
            "Mounted at /content/drive\n"
          ]
        }
      ]
    },
    {
      "cell_type": "code",
      "source": [
        "filepath = \"/content/drive/MyDrive/LiLa_Nagapattinam/Practice\""
      ],
      "metadata": {
        "id": "ybA-9tdE0vat"
      },
      "execution_count": 4,
      "outputs": []
    },
    {
      "cell_type": "code",
      "source": [
        "UT = 4326\n",
        "shapeN = gpd.read_file(filepath + '/Nagapattinam_proj32644.shp')\n",
        "shapeN = shapeN.to_crs(epsg = UT)\n",
        "\n",
        "shapeTN = gpd.read_file(filepath + '/water_TN.shp')\n",
        "shapeTN = shapeTN.to_crs(epsg = UT)\n",
        "\n",
        "intersection_shape = overlay(shapeN, shapeTN, how='intersection')\n",
        "print(intersection_shape.shape)\n",
        "\n",
        "intersection_shape.plot(cmap='Accent')"
      ],
      "metadata": {
        "id": "B-B_fjze1jc4"
      },
      "execution_count": null,
      "outputs": []
    }
  ],
  "metadata": {
    "kernelspec": {
      "display_name": "Python 3.10.4 ('fastai')",
      "language": "python",
      "name": "python3"
    },
    "language_info": {
      "name": "python",
      "version": "3.10.4"
    },
    "orig_nbformat": 4,
    "vscode": {
      "interpreter": {
        "hash": "4b6371f9b180b180e3c0fc2dc539c52593b72b3e75aed3593bd0a5845eb81bd2"
      }
    },
    "colab": {
      "name": "sample.ipynb",
      "provenance": [],
      "collapsed_sections": [],
      "include_colab_link": true
    }
  },
  "nbformat": 4,
  "nbformat_minor": 0
}